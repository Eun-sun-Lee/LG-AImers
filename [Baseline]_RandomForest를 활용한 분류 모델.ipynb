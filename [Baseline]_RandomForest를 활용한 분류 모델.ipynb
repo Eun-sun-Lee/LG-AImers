{
 "cells": [
  {
   "cell_type": "markdown",
   "source": [
    "## Import"
   ],
   "metadata": {}
  },
  {
   "cell_type": "code",
   "execution_count": 12,
   "source": [
    "import pandas as pd\n",
    "import random\n",
    "import os\n",
    "import numpy as np\n",
    "\n",
    "from sklearn.preprocessing import LabelEncoder\n",
    "from sklearn.ensemble import RandomForestClassifier"
   ],
   "outputs": [],
   "metadata": {}
  },
  {
   "cell_type": "code",
   "execution_count": 13,
   "source": [
    "def seed_everything(seed):\n",
    "    random.seed(seed)\n",
    "    os.environ['PYTHONHASHSEED'] = str(seed)\n",
    "    np.random.seed(seed)\n",
    "seed_everything(37) # Seed 고정"
   ],
   "outputs": [],
   "metadata": {}
  },
  {
   "cell_type": "markdown",
   "source": [
    "## Data Load"
   ],
   "metadata": {}
  },
  {
   "cell_type": "code",
   "execution_count": 14,
   "source": [
    "train_df = pd.read_csv('./train.csv')\n",
    "test_df = pd.read_csv('./test.csv')"
   ],
   "outputs": [],
   "metadata": {}
  },
  {
   "cell_type": "code",
   "execution_count": 15,
   "source": [
    "train_x = train_df.drop(columns=['PRODUCT_ID', 'TIMESTAMP', 'Y_Class', 'Y_Quality'])\n",
    "train_y = train_df['Y_Class']\n",
    "\n",
    "test_x = test_df.drop(columns=['PRODUCT_ID', 'TIMESTAMP'])"
   ],
   "outputs": [],
   "metadata": {}
  },
  {
   "cell_type": "markdown",
   "source": [
    "## Data Pre-processing"
   ],
   "metadata": {}
  },
  {
   "cell_type": "code",
   "execution_count": 16,
   "source": [
    "train_x = train_x.fillna(0)\n",
    "test_x = test_x.fillna(0)\n",
    "# print(test_x)\n",
    "print(train_x)"
   ],
   "outputs": [
    {
     "output_type": "stream",
     "name": "stdout",
     "text": [
      "        LINE PRODUCT_CODE   X_1   X_2  X_3   X_4   X_5  X_6   X_7   X_8  ...  \\\n",
      "0    T050304         A_31   0.0   0.0  0.0   0.0   0.0  0.0   0.0   0.0  ...   \n",
      "1    T050307         A_31   0.0   0.0  0.0   0.0   0.0  0.0   0.0   0.0  ...   \n",
      "2    T050304         A_31   0.0   0.0  0.0   0.0   0.0  0.0   0.0   0.0  ...   \n",
      "3    T050307         A_31   0.0   0.0  0.0   0.0   0.0  0.0   0.0   0.0  ...   \n",
      "4    T050304         A_31   0.0   0.0  0.0   0.0   0.0  0.0   0.0   0.0  ...   \n",
      "..       ...          ...   ...   ...  ...   ...   ...  ...   ...   ...  ...   \n",
      "593  T100306         T_31   2.0  95.0  0.0  45.0  10.0  0.0  50.0  10.0  ...   \n",
      "594  T050304         A_31   0.0   0.0  0.0   0.0   0.0  0.0   0.0   0.0  ...   \n",
      "595  T050304         A_31   0.0   0.0  0.0   0.0   0.0  0.0   0.0   0.0  ...   \n",
      "596  T100304         O_31  40.0  94.0  0.0  45.0  11.0  0.0  45.0  10.0  ...   \n",
      "597  T100306         O_31  21.0  87.0  0.0  45.0  10.0  0.0  61.0  10.0  ...   \n",
      "\n",
      "     X_2866  X_2867  X_2868  X_2869  X_2870  X_2871  X_2872  X_2873  X_2874  \\\n",
      "0     39.34   40.89   32.56   34.09   77.77     0.0     0.0     0.0     0.0   \n",
      "1     38.89   42.82   43.92   35.34   72.55     0.0     0.0     0.0     0.0   \n",
      "2     39.19   36.65   42.47   36.53   78.35     0.0     0.0     0.0     0.0   \n",
      "3     37.74   39.17   52.17   30.58   71.78     0.0     0.0     0.0     0.0   \n",
      "4     38.70   41.89   46.93   33.09   76.97     0.0     0.0     0.0     0.0   \n",
      "..      ...     ...     ...     ...     ...     ...     ...     ...     ...   \n",
      "593    0.00    0.00    0.00    0.00    0.00     0.0     0.0     0.0     0.0   \n",
      "594   49.47   53.07   50.89   55.10   66.49     1.0     0.0     0.0     0.0   \n",
      "595    0.00    0.00    0.00    0.00    0.00     1.0     0.0     0.0     0.0   \n",
      "596    0.00    0.00    0.00    0.00    0.00     0.0     0.0     0.0     0.0   \n",
      "597    0.00    0.00    0.00    0.00    0.00     0.0     0.0     0.0     0.0   \n",
      "\n",
      "     X_2875  \n",
      "0       0.0  \n",
      "1       0.0  \n",
      "2       0.0  \n",
      "3       0.0  \n",
      "4       0.0  \n",
      "..      ...  \n",
      "593     0.0  \n",
      "594     0.0  \n",
      "595     0.0  \n",
      "596     0.0  \n",
      "597     0.0  \n",
      "\n",
      "[598 rows x 2877 columns]\n"
     ]
    }
   ],
   "metadata": {}
  },
  {
   "cell_type": "code",
   "execution_count": 17,
   "source": [
    "# qualitative to quantitative\n",
    "qual_col = ['LINE', 'PRODUCT_CODE']\n",
    "\n",
    "for i in qual_col:\n",
    "    le = LabelEncoder()\n",
    "    le = le.fit(train_x[i])\n",
    "    train_x[i] = le.transform(train_x[i])\n",
    "    \n",
    "    for label in np.unique(test_x[i]): \n",
    "        if label not in le.classes_: \n",
    "            le.classes_ = np.append(le.classes_, label)\n",
    "    test_x[i] = le.transform(test_x[i]) \n",
    "print('Done.')"
   ],
   "outputs": [
    {
     "output_type": "stream",
     "name": "stdout",
     "text": [
      "Done.\n"
     ]
    }
   ],
   "metadata": {}
  },
  {
   "cell_type": "markdown",
   "source": [
    "## Classification Model Fit"
   ],
   "metadata": {}
  },
  {
   "cell_type": "code",
   "execution_count": 18,
   "source": [
    "RF = RandomForestClassifier(random_state=37).fit(train_x, train_y)\n",
    "print('Done.')\n",
    "print(test_x)\n",
    "# print(train_x)\n",
    "# print(train_y)\n"
   ],
   "outputs": [
    {
     "output_type": "stream",
     "name": "stdout",
     "text": [
      "Done.\n",
      "     LINE  PRODUCT_CODE  X_1   X_2  X_3   X_4   X_5  X_6   X_7   X_8  ...  \\\n",
      "0       5             2  2.0  94.0  0.0  45.0  10.0  0.0  51.0  10.0  ...   \n",
      "1       4             2  2.0  93.0  0.0  45.0  11.0  0.0  45.0  10.0  ...   \n",
      "2       4             2  2.0  95.0  0.0  45.0  11.0  0.0  45.0  10.0  ...   \n",
      "3       0             0  0.0   0.0  0.0   0.0   0.0  0.0   0.0   0.0  ...   \n",
      "4       1             0  0.0   0.0  0.0   0.0   0.0  0.0   0.0   0.0  ...   \n",
      "..    ...           ...  ...   ...  ...   ...   ...  ...   ...   ...  ...   \n",
      "305     5             2  2.0  91.0  0.0  45.0  10.0  0.0  51.0  10.0  ...   \n",
      "306     4             2  2.0  96.0  0.0  45.0  11.0  0.0  45.0  10.0  ...   \n",
      "307     5             2  2.0  91.0  0.0  45.0  10.0  0.0  50.0  10.0  ...   \n",
      "308     5             2  2.0  95.0  0.0  45.0  10.0  0.0  51.0  10.0  ...   \n",
      "309     5             2  2.0  87.0  0.0  45.0  10.0  0.0  51.0  10.0  ...   \n",
      "\n",
      "     X_2866  X_2867  X_2868  X_2869  X_2870  X_2871  X_2872  X_2873  X_2874  \\\n",
      "0       0.0     0.0     0.0     0.0     0.0     0.0     0.0     0.0     0.0   \n",
      "1       0.0     0.0     0.0     0.0     0.0     0.0     0.0     0.0     0.0   \n",
      "2       0.0     0.0     0.0     0.0     0.0     0.0     0.0     0.0     0.0   \n",
      "3       0.0     0.0     0.0     0.0     0.0     0.0     0.0     0.0     0.0   \n",
      "4       0.0     0.0     0.0     0.0     0.0     0.0     0.0     0.0     0.0   \n",
      "..      ...     ...     ...     ...     ...     ...     ...     ...     ...   \n",
      "305     0.0     0.0     0.0     0.0     0.0     0.0     0.0     0.0     0.0   \n",
      "306     0.0     0.0     0.0     0.0     0.0     0.0     0.0     0.0     0.0   \n",
      "307     0.0     0.0     0.0     0.0     0.0     0.0     0.0     0.0     0.0   \n",
      "308     0.0     0.0     0.0     0.0     0.0     0.0     0.0     0.0     0.0   \n",
      "309     0.0     0.0     0.0     0.0     0.0     0.0     0.0     0.0     0.0   \n",
      "\n",
      "     X_2875  \n",
      "0       0.0  \n",
      "1       0.0  \n",
      "2       0.0  \n",
      "3       0.0  \n",
      "4       0.0  \n",
      "..      ...  \n",
      "305     0.0  \n",
      "306     0.0  \n",
      "307     0.0  \n",
      "308     0.0  \n",
      "309     0.0  \n",
      "\n",
      "[310 rows x 2877 columns]\n"
     ]
    }
   ],
   "metadata": {}
  },
  {
   "cell_type": "markdown",
   "source": [
    "## Inference"
   ],
   "metadata": {}
  },
  {
   "cell_type": "code",
   "execution_count": 8,
   "source": [
    "preds = RF.predict(test_x)\n",
    "print('Done.')"
   ],
   "outputs": [
    {
     "output_type": "stream",
     "name": "stdout",
     "text": [
      "Done.\n"
     ]
    }
   ],
   "metadata": {}
  },
  {
   "cell_type": "markdown",
   "source": [
    "## Submit"
   ],
   "metadata": {}
  },
  {
   "cell_type": "code",
   "execution_count": 9,
   "source": [
    "submit = pd.read_csv('./sample_submission.csv')"
   ],
   "outputs": [],
   "metadata": {}
  },
  {
   "cell_type": "code",
   "execution_count": 10,
   "source": [
    "submit['Y_Class'] = preds"
   ],
   "outputs": [],
   "metadata": {}
  },
  {
   "cell_type": "code",
   "execution_count": 11,
   "source": [
    "submit.to_csv('./baseline_submission.csv', index=False)"
   ],
   "outputs": [],
   "metadata": {
    "tags": []
   }
  }
 ],
 "metadata": {
  "kernelspec": {
   "name": "python3",
   "display_name": "Python 3.10.8 64-bit ('sklearn-env': conda)"
  },
  "language_info": {
   "codemirror_mode": {
    "name": "ipython",
    "version": 3
   },
   "file_extension": ".py",
   "mimetype": "text/x-python",
   "name": "python",
   "nbconvert_exporter": "python",
   "pygments_lexer": "ipython3",
   "version": "3.10.8"
  },
  "interpreter": {
   "hash": "8a3c420f966a363622968ac6557bcc60a8e6a5d280770e8cb6788a1a7deee347"
  }
 },
 "nbformat": 4,
 "nbformat_minor": 5
}