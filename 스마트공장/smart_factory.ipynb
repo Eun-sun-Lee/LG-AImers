{
 "cells": [
  {
   "cell_type": "code",
   "execution_count": 1,
   "source": [
    "import pandas as pd\n",
    "import random\n",
    "import os\n",
    "import numpy as np\n",
    "\n",
    "from sklearn.preprocessing import LabelEncoder\n",
    "from sklearn.ensemble import RandomForestClassifier"
   ],
   "outputs": [],
   "metadata": {}
  },
  {
   "cell_type": "code",
   "execution_count": 9,
   "source": [
    "data = pd.read_csv('./train.csv')\n",
    "not_x = ['PRODUCT_ID', 'Y_Class', 'TIMESTAMP', 'LINE', 'Y_Quality', 'PRODUCT_CODE']\n",
    "\n",
    "data = data.drop(columns = not_x) # 'X_OO'인 열들만 남기기 -> NaN값 처리 위함.\n",
    "print(data)\n",
    "data = data.isnull().sum()\n",
    "data = data.to_frame()\n",
    "data.columns=['zero']\n",
    "data['zero']\n",
    "data = data[data['zero']<598]\n",
    "data"
   ],
   "outputs": [
    {
     "output_type": "stream",
     "name": "stdout",
     "text": [
      "      X_1   X_2  X_3   X_4   X_5  X_6   X_7   X_8   X_9  X_10  ...  X_2866  \\\n",
      "0     NaN   NaN  NaN   NaN   NaN  NaN   NaN   NaN   NaN   NaN  ...   39.34   \n",
      "1     NaN   NaN  NaN   NaN   NaN  NaN   NaN   NaN   NaN   NaN  ...   38.89   \n",
      "2     NaN   NaN  NaN   NaN   NaN  NaN   NaN   NaN   NaN   NaN  ...   39.19   \n",
      "3     NaN   NaN  NaN   NaN   NaN  NaN   NaN   NaN   NaN   NaN  ...   37.74   \n",
      "4     NaN   NaN  NaN   NaN   NaN  NaN   NaN   NaN   NaN   NaN  ...   38.70   \n",
      "..    ...   ...  ...   ...   ...  ...   ...   ...   ...   ...  ...     ...   \n",
      "593   2.0  95.0  0.0  45.0  10.0  0.0  50.0  10.0  52.0   2.0  ...     NaN   \n",
      "594   NaN   NaN  NaN   NaN   NaN  NaN   NaN   NaN   NaN   NaN  ...   49.47   \n",
      "595   NaN   NaN  NaN   NaN   NaN  NaN   NaN   NaN   NaN   NaN  ...     NaN   \n",
      "596  40.0  94.0  0.0  45.0  11.0  0.0  45.0  10.0  31.0   2.0  ...     NaN   \n",
      "597  21.0  87.0  0.0  45.0  10.0  0.0  61.0  10.0  52.0   2.0  ...     NaN   \n",
      "\n",
      "     X_2867  X_2868  X_2869  X_2870  X_2871  X_2872  X_2873  X_2874  X_2875  \n",
      "0     40.89   32.56   34.09   77.77     NaN     NaN     NaN     NaN     NaN  \n",
      "1     42.82   43.92   35.34   72.55     NaN     NaN     NaN     NaN     NaN  \n",
      "2     36.65   42.47   36.53   78.35     NaN     NaN     NaN     NaN     NaN  \n",
      "3     39.17   52.17   30.58   71.78     NaN     NaN     NaN     NaN     NaN  \n",
      "4     41.89   46.93   33.09   76.97     NaN     NaN     NaN     NaN     NaN  \n",
      "..      ...     ...     ...     ...     ...     ...     ...     ...     ...  \n",
      "593     NaN     NaN     NaN     NaN     NaN     NaN     NaN     NaN     NaN  \n",
      "594   53.07   50.89   55.10   66.49     1.0     NaN     NaN     NaN     NaN  \n",
      "595     NaN     NaN     NaN     NaN     1.0     NaN     NaN     NaN     NaN  \n",
      "596     NaN     NaN     NaN     NaN     NaN     NaN     NaN     NaN     NaN  \n",
      "597     NaN     NaN     NaN     NaN     NaN     NaN     NaN     NaN     NaN  \n",
      "\n",
      "[598 rows x 2875 columns]\n"
     ]
    },
    {
     "output_type": "execute_result",
     "data": {
      "text/html": [
       "<div>\n",
       "<style scoped>\n",
       "    .dataframe tbody tr th:only-of-type {\n",
       "        vertical-align: middle;\n",
       "    }\n",
       "\n",
       "    .dataframe tbody tr th {\n",
       "        vertical-align: top;\n",
       "    }\n",
       "\n",
       "    .dataframe thead th {\n",
       "        text-align: right;\n",
       "    }\n",
       "</style>\n",
       "<table border=\"1\" class=\"dataframe\">\n",
       "  <thead>\n",
       "    <tr style=\"text-align: right;\">\n",
       "      <th></th>\n",
       "      <th>zero</th>\n",
       "    </tr>\n",
       "  </thead>\n",
       "  <tbody>\n",
       "    <tr>\n",
       "      <th>X_1</th>\n",
       "      <td>249</td>\n",
       "    </tr>\n",
       "    <tr>\n",
       "      <th>X_2</th>\n",
       "      <td>249</td>\n",
       "    </tr>\n",
       "    <tr>\n",
       "      <th>X_3</th>\n",
       "      <td>249</td>\n",
       "    </tr>\n",
       "    <tr>\n",
       "      <th>X_4</th>\n",
       "      <td>249</td>\n",
       "    </tr>\n",
       "    <tr>\n",
       "      <th>X_5</th>\n",
       "      <td>249</td>\n",
       "    </tr>\n",
       "    <tr>\n",
       "      <th>...</th>\n",
       "      <td>...</td>\n",
       "    </tr>\n",
       "    <tr>\n",
       "      <th>X_2867</th>\n",
       "      <td>498</td>\n",
       "    </tr>\n",
       "    <tr>\n",
       "      <th>X_2868</th>\n",
       "      <td>498</td>\n",
       "    </tr>\n",
       "    <tr>\n",
       "      <th>X_2869</th>\n",
       "      <td>498</td>\n",
       "    </tr>\n",
       "    <tr>\n",
       "      <th>X_2870</th>\n",
       "      <td>498</td>\n",
       "    </tr>\n",
       "    <tr>\n",
       "      <th>X_2871</th>\n",
       "      <td>499</td>\n",
       "    </tr>\n",
       "  </tbody>\n",
       "</table>\n",
       "<p>2793 rows × 1 columns</p>\n",
       "</div>"
      ],
      "text/plain": [
       "        zero\n",
       "X_1      249\n",
       "X_2      249\n",
       "X_3      249\n",
       "X_4      249\n",
       "X_5      249\n",
       "...      ...\n",
       "X_2867   498\n",
       "X_2868   498\n",
       "X_2869   498\n",
       "X_2870   498\n",
       "X_2871   499\n",
       "\n",
       "[2793 rows x 1 columns]"
      ]
     },
     "metadata": {},
     "execution_count": 9
    }
   ],
   "metadata": {}
  },
  {
   "cell_type": "code",
   "execution_count": null,
   "source": [],
   "outputs": [],
   "metadata": {}
  }
 ],
 "metadata": {
  "orig_nbformat": 4,
  "language_info": {
   "name": "python",
   "version": "3.10.8",
   "mimetype": "text/x-python",
   "codemirror_mode": {
    "name": "ipython",
    "version": 3
   },
   "pygments_lexer": "ipython3",
   "nbconvert_exporter": "python",
   "file_extension": ".py"
  },
  "kernelspec": {
   "name": "python3",
   "display_name": "Python 3.10.8 64-bit ('sklearn-env': conda)"
  },
  "interpreter": {
   "hash": "8a3c420f966a363622968ac6557bcc60a8e6a5d280770e8cb6788a1a7deee347"
  }
 },
 "nbformat": 4,
 "nbformat_minor": 2
}