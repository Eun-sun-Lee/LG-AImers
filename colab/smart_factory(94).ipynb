{
  "nbformat": 4,
  "nbformat_minor": 0,
  "metadata": {
    "colab": {
      "provenance": []
    },
    "kernelspec": {
      "name": "python3",
      "display_name": "Python 3"
    },
    "language_info": {
      "name": "python"
    }
  },
  "cells": [
    {
      "cell_type": "code",
      "execution_count": 54,
      "metadata": {
        "id": "Z1yedHY0ap_T"
      },
      "outputs": [],
      "source": [
        "import pandas as pd\n",
        "import random\n",
        "import os\n",
        "import numpy as np\n",
        "\n",
        "from sklearn.preprocessing import LabelEncoder\n",
        "from sklearn.ensemble import RandomForestClassifier"
      ]
    },
    {
      "cell_type": "code",
      "source": [
        "data = pd.read_csv('./train.csv')\n",
        "not_x = ['PRODUCT_ID', 'Y_Class', 'TIMESTAMP', 'LINE', 'Y_Quality', 'PRODUCT_CODE']\n",
        "\n",
        "data = data.drop(columns = not_x) # 'X_OO'인 열들만 남기기 -> NaN값 처리 위함.\n",
        "print(data)\n",
        "data = data.isnull().sum()\n",
        "data = data.to_frame()\n",
        "data.columns=['zero']\n",
        "data['zero']\n",
        "# data = data[data['zero']<550] #!!!!!!!!!!!!!!!!!!!!!!!!!!!!!!!!!!\n",
        "data = data[data['zero']<598] \n",
        "# data = data[data['zero']<540] \n",
        "\n",
        "data # 2875 -> 2793"
      ],
      "metadata": {
        "colab": {
          "base_uri": "https://localhost:8080/",
          "height": 906
        },
        "id": "sXxXfp4ZjU8T",
        "outputId": "5bf69525-c7f4-4d16-ff05-8e2630ede531"
      },
      "execution_count": 60,
      "outputs": [
        {
          "output_type": "stream",
          "name": "stdout",
          "text": [
            "      X_1   X_2  X_3   X_4   X_5  X_6   X_7   X_8   X_9  X_10  ...  X_2866  \\\n",
            "0     NaN   NaN  NaN   NaN   NaN  NaN   NaN   NaN   NaN   NaN  ...   39.34   \n",
            "1     NaN   NaN  NaN   NaN   NaN  NaN   NaN   NaN   NaN   NaN  ...   38.89   \n",
            "2     NaN   NaN  NaN   NaN   NaN  NaN   NaN   NaN   NaN   NaN  ...   39.19   \n",
            "3     NaN   NaN  NaN   NaN   NaN  NaN   NaN   NaN   NaN   NaN  ...   37.74   \n",
            "4     NaN   NaN  NaN   NaN   NaN  NaN   NaN   NaN   NaN   NaN  ...   38.70   \n",
            "..    ...   ...  ...   ...   ...  ...   ...   ...   ...   ...  ...     ...   \n",
            "593  2.00 95.00 0.00 45.00 10.00 0.00 50.00 10.00 52.00  2.00  ...     NaN   \n",
            "594   NaN   NaN  NaN   NaN   NaN  NaN   NaN   NaN   NaN   NaN  ...   49.47   \n",
            "595   NaN   NaN  NaN   NaN   NaN  NaN   NaN   NaN   NaN   NaN  ...     NaN   \n",
            "596 40.00 94.00 0.00 45.00 11.00 0.00 45.00 10.00 31.00  2.00  ...     NaN   \n",
            "597 21.00 87.00 0.00 45.00 10.00 0.00 61.00 10.00 52.00  2.00  ...     NaN   \n",
            "\n",
            "     X_2867  X_2868  X_2869  X_2870  X_2871  X_2872  X_2873  X_2874  X_2875  \n",
            "0     40.89   32.56   34.09   77.77     NaN     NaN     NaN     NaN     NaN  \n",
            "1     42.82   43.92   35.34   72.55     NaN     NaN     NaN     NaN     NaN  \n",
            "2     36.65   42.47   36.53   78.35     NaN     NaN     NaN     NaN     NaN  \n",
            "3     39.17   52.17   30.58   71.78     NaN     NaN     NaN     NaN     NaN  \n",
            "4     41.89   46.93   33.09   76.97     NaN     NaN     NaN     NaN     NaN  \n",
            "..      ...     ...     ...     ...     ...     ...     ...     ...     ...  \n",
            "593     NaN     NaN     NaN     NaN     NaN     NaN     NaN     NaN     NaN  \n",
            "594   53.07   50.89   55.10   66.49    1.00     NaN     NaN     NaN     NaN  \n",
            "595     NaN     NaN     NaN     NaN    1.00     NaN     NaN     NaN     NaN  \n",
            "596     NaN     NaN     NaN     NaN     NaN     NaN     NaN     NaN     NaN  \n",
            "597     NaN     NaN     NaN     NaN     NaN     NaN     NaN     NaN     NaN  \n",
            "\n",
            "[598 rows x 2875 columns]\n"
          ]
        },
        {
          "output_type": "execute_result",
          "data": {
            "text/plain": [
              "        zero\n",
              "X_1      249\n",
              "X_2      249\n",
              "X_3      249\n",
              "X_4      249\n",
              "X_5      249\n",
              "...      ...\n",
              "X_2867   498\n",
              "X_2868   498\n",
              "X_2869   498\n",
              "X_2870   498\n",
              "X_2871   499\n",
              "\n",
              "[2793 rows x 1 columns]"
            ],
            "text/html": [
              "\n",
              "  <div id=\"df-049e20c5-83f1-47a7-97e8-422c85d55098\">\n",
              "    <div class=\"colab-df-container\">\n",
              "      <div>\n",
              "<style scoped>\n",
              "    .dataframe tbody tr th:only-of-type {\n",
              "        vertical-align: middle;\n",
              "    }\n",
              "\n",
              "    .dataframe tbody tr th {\n",
              "        vertical-align: top;\n",
              "    }\n",
              "\n",
              "    .dataframe thead th {\n",
              "        text-align: right;\n",
              "    }\n",
              "</style>\n",
              "<table border=\"1\" class=\"dataframe\">\n",
              "  <thead>\n",
              "    <tr style=\"text-align: right;\">\n",
              "      <th></th>\n",
              "      <th>zero</th>\n",
              "    </tr>\n",
              "  </thead>\n",
              "  <tbody>\n",
              "    <tr>\n",
              "      <th>X_1</th>\n",
              "      <td>249</td>\n",
              "    </tr>\n",
              "    <tr>\n",
              "      <th>X_2</th>\n",
              "      <td>249</td>\n",
              "    </tr>\n",
              "    <tr>\n",
              "      <th>X_3</th>\n",
              "      <td>249</td>\n",
              "    </tr>\n",
              "    <tr>\n",
              "      <th>X_4</th>\n",
              "      <td>249</td>\n",
              "    </tr>\n",
              "    <tr>\n",
              "      <th>X_5</th>\n",
              "      <td>249</td>\n",
              "    </tr>\n",
              "    <tr>\n",
              "      <th>...</th>\n",
              "      <td>...</td>\n",
              "    </tr>\n",
              "    <tr>\n",
              "      <th>X_2867</th>\n",
              "      <td>498</td>\n",
              "    </tr>\n",
              "    <tr>\n",
              "      <th>X_2868</th>\n",
              "      <td>498</td>\n",
              "    </tr>\n",
              "    <tr>\n",
              "      <th>X_2869</th>\n",
              "      <td>498</td>\n",
              "    </tr>\n",
              "    <tr>\n",
              "      <th>X_2870</th>\n",
              "      <td>498</td>\n",
              "    </tr>\n",
              "    <tr>\n",
              "      <th>X_2871</th>\n",
              "      <td>499</td>\n",
              "    </tr>\n",
              "  </tbody>\n",
              "</table>\n",
              "<p>2793 rows × 1 columns</p>\n",
              "</div>\n",
              "      <button class=\"colab-df-convert\" onclick=\"convertToInteractive('df-049e20c5-83f1-47a7-97e8-422c85d55098')\"\n",
              "              title=\"Convert this dataframe to an interactive table.\"\n",
              "              style=\"display:none;\">\n",
              "        \n",
              "  <svg xmlns=\"http://www.w3.org/2000/svg\" height=\"24px\"viewBox=\"0 0 24 24\"\n",
              "       width=\"24px\">\n",
              "    <path d=\"M0 0h24v24H0V0z\" fill=\"none\"/>\n",
              "    <path d=\"M18.56 5.44l.94 2.06.94-2.06 2.06-.94-2.06-.94-.94-2.06-.94 2.06-2.06.94zm-11 1L8.5 8.5l.94-2.06 2.06-.94-2.06-.94L8.5 2.5l-.94 2.06-2.06.94zm10 10l.94 2.06.94-2.06 2.06-.94-2.06-.94-.94-2.06-.94 2.06-2.06.94z\"/><path d=\"M17.41 7.96l-1.37-1.37c-.4-.4-.92-.59-1.43-.59-.52 0-1.04.2-1.43.59L10.3 9.45l-7.72 7.72c-.78.78-.78 2.05 0 2.83L4 21.41c.39.39.9.59 1.41.59.51 0 1.02-.2 1.41-.59l7.78-7.78 2.81-2.81c.8-.78.8-2.07 0-2.86zM5.41 20L4 18.59l7.72-7.72 1.47 1.35L5.41 20z\"/>\n",
              "  </svg>\n",
              "      </button>\n",
              "      \n",
              "  <style>\n",
              "    .colab-df-container {\n",
              "      display:flex;\n",
              "      flex-wrap:wrap;\n",
              "      gap: 12px;\n",
              "    }\n",
              "\n",
              "    .colab-df-convert {\n",
              "      background-color: #E8F0FE;\n",
              "      border: none;\n",
              "      border-radius: 50%;\n",
              "      cursor: pointer;\n",
              "      display: none;\n",
              "      fill: #1967D2;\n",
              "      height: 32px;\n",
              "      padding: 0 0 0 0;\n",
              "      width: 32px;\n",
              "    }\n",
              "\n",
              "    .colab-df-convert:hover {\n",
              "      background-color: #E2EBFA;\n",
              "      box-shadow: 0px 1px 2px rgba(60, 64, 67, 0.3), 0px 1px 3px 1px rgba(60, 64, 67, 0.15);\n",
              "      fill: #174EA6;\n",
              "    }\n",
              "\n",
              "    [theme=dark] .colab-df-convert {\n",
              "      background-color: #3B4455;\n",
              "      fill: #D2E3FC;\n",
              "    }\n",
              "\n",
              "    [theme=dark] .colab-df-convert:hover {\n",
              "      background-color: #434B5C;\n",
              "      box-shadow: 0px 1px 3px 1px rgba(0, 0, 0, 0.15);\n",
              "      filter: drop-shadow(0px 1px 2px rgba(0, 0, 0, 0.3));\n",
              "      fill: #FFFFFF;\n",
              "    }\n",
              "  </style>\n",
              "\n",
              "      <script>\n",
              "        const buttonEl =\n",
              "          document.querySelector('#df-049e20c5-83f1-47a7-97e8-422c85d55098 button.colab-df-convert');\n",
              "        buttonEl.style.display =\n",
              "          google.colab.kernel.accessAllowed ? 'block' : 'none';\n",
              "\n",
              "        async function convertToInteractive(key) {\n",
              "          const element = document.querySelector('#df-049e20c5-83f1-47a7-97e8-422c85d55098');\n",
              "          const dataTable =\n",
              "            await google.colab.kernel.invokeFunction('convertToInteractive',\n",
              "                                                     [key], {});\n",
              "          if (!dataTable) return;\n",
              "\n",
              "          const docLinkHtml = 'Like what you see? Visit the ' +\n",
              "            '<a target=\"_blank\" href=https://colab.research.google.com/notebooks/data_table.ipynb>data table notebook</a>'\n",
              "            + ' to learn more about interactive tables.';\n",
              "          element.innerHTML = '';\n",
              "          dataTable['output_type'] = 'display_data';\n",
              "          await google.colab.output.renderOutput(dataTable, element);\n",
              "          const docLink = document.createElement('div');\n",
              "          docLink.innerHTML = docLinkHtml;\n",
              "          element.appendChild(docLink);\n",
              "        }\n",
              "      </script>\n",
              "    </div>\n",
              "  </div>\n",
              "  "
            ]
          },
          "metadata": {},
          "execution_count": 60
        }
      ]
    },
    {
      "cell_type": "code",
      "source": [
        "pd.set_option('display.max_rows', 20)\n",
        "\n",
        "first_row = data.index.to_list()\n"
      ],
      "metadata": {
        "id": "dDY4jYws6cHX"
      },
      "execution_count": 61,
      "outputs": []
    },
    {
      "cell_type": "code",
      "source": [
        "# first_row.append('PRODUCT_ID')\n",
        "first_row.append('Y_Class')\n",
        "first_row.append('Y_Quality')\n",
        "# first_row.append('TIMESTAMP')\n",
        "# first_row.append('LINE')\n",
        "# first_row.append('PRODUCT_CODE')\n",
        "\n",
        "data = pd.read_csv('./train.csv')\n",
        "df = data[first_row]\n",
        "# df = data.drop(columns = first_row)\n",
        "print(df)"
      ],
      "metadata": {
        "colab": {
          "base_uri": "https://localhost:8080/"
        },
        "id": "1ULoni9abBMG",
        "outputId": "60ef4b5a-e59e-45cd-d232-35a60de80cef"
      },
      "execution_count": 62,
      "outputs": [
        {
          "output_type": "stream",
          "name": "stdout",
          "text": [
            "      X_1   X_2  X_3   X_4   X_5  X_6   X_7   X_8   X_9  X_10  ...  X_2864  \\\n",
            "0     NaN   NaN  NaN   NaN   NaN  NaN   NaN   NaN   NaN   NaN  ...  368.30   \n",
            "1     NaN   NaN  NaN   NaN   NaN  NaN   NaN   NaN   NaN   NaN  ...  367.74   \n",
            "2     NaN   NaN  NaN   NaN   NaN  NaN   NaN   NaN   NaN   NaN  ...  367.32   \n",
            "3     NaN   NaN  NaN   NaN   NaN  NaN   NaN   NaN   NaN   NaN  ...  369.19   \n",
            "4     NaN   NaN  NaN   NaN   NaN  NaN   NaN   NaN   NaN   NaN  ...  367.35   \n",
            "..    ...   ...  ...   ...   ...  ...   ...   ...   ...   ...  ...     ...   \n",
            "593  2.00 95.00 0.00 45.00 10.00 0.00 50.00 10.00 52.00  2.00  ...     NaN   \n",
            "594   NaN   NaN  NaN   NaN   NaN  NaN   NaN   NaN   NaN   NaN  ...  369.81   \n",
            "595   NaN   NaN  NaN   NaN   NaN  NaN   NaN   NaN   NaN   NaN  ...  367.02   \n",
            "596 40.00 94.00 0.00 45.00 11.00 0.00 45.00 10.00 31.00  2.00  ...     NaN   \n",
            "597 21.00 87.00 0.00 45.00 10.00 0.00 61.00 10.00 52.00  2.00  ...     NaN   \n",
            "\n",
            "     X_2865  X_2866  X_2867  X_2868  X_2869  X_2870  X_2871  Y_Class  \\\n",
            "0    353.00   39.34   40.89   32.56   34.09   77.77     NaN        1   \n",
            "1    353.00   38.89   42.82   43.92   35.34   72.55     NaN        2   \n",
            "2    353.00   39.19   36.65   42.47   36.53   78.35     NaN        1   \n",
            "3    353.00   37.74   39.17   52.17   30.58   71.78     NaN        2   \n",
            "4    352.00   38.70   41.89   46.93   33.09   76.97     NaN        1   \n",
            "..      ...     ...     ...     ...     ...     ...     ...      ...   \n",
            "593     NaN     NaN     NaN     NaN     NaN     NaN     NaN        1   \n",
            "594  353.00   49.47   53.07   50.89   55.10   66.49    1.00        0   \n",
            "595  352.00     NaN     NaN     NaN     NaN     NaN    1.00        0   \n",
            "596     NaN     NaN     NaN     NaN     NaN     NaN     NaN        1   \n",
            "597     NaN     NaN     NaN     NaN     NaN     NaN     NaN        1   \n",
            "\n",
            "     Y_Quality  \n",
            "0         0.53  \n",
            "1         0.54  \n",
            "2         0.53  \n",
            "3         0.54  \n",
            "4         0.53  \n",
            "..         ...  \n",
            "593       0.53  \n",
            "594       0.52  \n",
            "595       0.52  \n",
            "596       0.53  \n",
            "597       0.53  \n",
            "\n",
            "[598 rows x 2795 columns]\n"
          ]
        }
      ]
    },
    {
      "cell_type": "code",
      "source": [
        "# 결측된 데이터 시각화 -> 결측된 데이터는 흰색으로, 그렇지 않은 데이터는 검은색으로\n",
        "import missingno as msno\n",
        "import matplotlib.pyplot as plt\n",
        "\n",
        "msno.matrix(df)\n",
        "plt.show()"
      ],
      "metadata": {
        "colab": {
          "base_uri": "https://localhost:8080/",
          "height": 305
        },
        "id": "Kfa4dDClbCV8",
        "outputId": "c995e144-0ac2-45e5-fcb4-a631556f16da"
      },
      "execution_count": null,
      "outputs": [
        {
          "output_type": "display_data",
          "data": {
            "text/plain": [
              "<Figure size 1800x720 with 2 Axes>"
            ],
            "image/png": "[encoded data removed]"
          },
          "metadata": {
            "needs_background": "light"
          }
        }
      ]
    },
    {
      "cell_type": "code",
      "source": [
        "# # 데이터가 절반 이상이 없는 열을 삭제\n",
        "# df = df.dropna(thresh=int(len(df) * 0.5), axis=1)\n",
        "# msno.matrix(df)\n",
        "# plt.show()\n",
        "!pip install impyute\n",
        "print(df)"
      ],
      "metadata": {
        "id": "5fXWDBmNbDzT",
        "colab": {
          "base_uri": "https://localhost:8080/"
        },
        "outputId": "e434be6e-66ff-4149-8a75-b73dc5656456"
      },
      "execution_count": 63,
      "outputs": [
        {
          "output_type": "stream",
          "name": "stdout",
          "text": [
            "Looking in indexes: https://pypi.org/simple, https://us-python.pkg.dev/colab-wheels/public/simple/\n",
            "Requirement already satisfied: impyute in /usr/local/lib/python3.8/dist-packages (0.0.8)\n",
            "Requirement already satisfied: scipy in /usr/local/lib/python3.8/dist-packages (from impyute) (1.7.3)\n",
            "Requirement already satisfied: scikit-learn in /usr/local/lib/python3.8/dist-packages (from impyute) (1.0.2)\n",
            "Requirement already satisfied: numpy in /usr/local/lib/python3.8/dist-packages (from impyute) (1.21.6)\n",
            "Requirement already satisfied: joblib>=0.11 in /usr/local/lib/python3.8/dist-packages (from scikit-learn->impyute) (1.2.0)\n",
            "Requirement already satisfied: threadpoolctl>=2.0.0 in /usr/local/lib/python3.8/dist-packages (from scikit-learn->impyute) (3.1.0)\n",
            "      X_1   X_2  X_3   X_4   X_5  X_6   X_7   X_8   X_9  X_10  ...  X_2864  \\\n",
            "0     NaN   NaN  NaN   NaN   NaN  NaN   NaN   NaN   NaN   NaN  ...  368.30   \n",
            "1     NaN   NaN  NaN   NaN   NaN  NaN   NaN   NaN   NaN   NaN  ...  367.74   \n",
            "2     NaN   NaN  NaN   NaN   NaN  NaN   NaN   NaN   NaN   NaN  ...  367.32   \n",
            "3     NaN   NaN  NaN   NaN   NaN  NaN   NaN   NaN   NaN   NaN  ...  369.19   \n",
            "4     NaN   NaN  NaN   NaN   NaN  NaN   NaN   NaN   NaN   NaN  ...  367.35   \n",
            "..    ...   ...  ...   ...   ...  ...   ...   ...   ...   ...  ...     ...   \n",
            "593  2.00 95.00 0.00 45.00 10.00 0.00 50.00 10.00 52.00  2.00  ...     NaN   \n",
            "594   NaN   NaN  NaN   NaN   NaN  NaN   NaN   NaN   NaN   NaN  ...  369.81   \n",
            "595   NaN   NaN  NaN   NaN   NaN  NaN   NaN   NaN   NaN   NaN  ...  367.02   \n",
            "596 40.00 94.00 0.00 45.00 11.00 0.00 45.00 10.00 31.00  2.00  ...     NaN   \n",
            "597 21.00 87.00 0.00 45.00 10.00 0.00 61.00 10.00 52.00  2.00  ...     NaN   \n",
            "\n",
            "     X_2865  X_2866  X_2867  X_2868  X_2869  X_2870  X_2871  Y_Class  \\\n",
            "0    353.00   39.34   40.89   32.56   34.09   77.77     NaN        1   \n",
            "1    353.00   38.89   42.82   43.92   35.34   72.55     NaN        2   \n",
            "2    353.00   39.19   36.65   42.47   36.53   78.35     NaN        1   \n",
            "3    353.00   37.74   39.17   52.17   30.58   71.78     NaN        2   \n",
            "4    352.00   38.70   41.89   46.93   33.09   76.97     NaN        1   \n",
            "..      ...     ...     ...     ...     ...     ...     ...      ...   \n",
            "593     NaN     NaN     NaN     NaN     NaN     NaN     NaN        1   \n",
            "594  353.00   49.47   53.07   50.89   55.10   66.49    1.00        0   \n",
            "595  352.00     NaN     NaN     NaN     NaN     NaN    1.00        0   \n",
            "596     NaN     NaN     NaN     NaN     NaN     NaN     NaN        1   \n",
            "597     NaN     NaN     NaN     NaN     NaN     NaN     NaN        1   \n",
            "\n",
            "     Y_Quality  \n",
            "0         0.53  \n",
            "1         0.54  \n",
            "2         0.53  \n",
            "3         0.54  \n",
            "4         0.53  \n",
            "..         ...  \n",
            "593       0.53  \n",
            "594       0.52  \n",
            "595       0.52  \n",
            "596       0.53  \n",
            "597       0.53  \n",
            "\n",
            "[598 rows x 2795 columns]\n"
          ]
        }
      ]
    },
    {
      "cell_type": "code",
      "source": [
        "# 중앙값으로 결측값 대체\n",
        "# from sklearn.impute import SimpleImputer\n",
        "# from impyute.imputation.cs import fast_knn\n",
        "# import sys\n",
        "\n",
        "# sys.setrecursionlimit(100000) #Increase the recursion limit of the OS\n",
        "\n",
        "# # start the KNN training\n",
        "# imputed_training=fast_knn(df.values, k=5)\n",
        "\n",
        "# imputer = SimpleImputer(strategy=\"mean\")\n",
        "# # imputer = SimpleImputer(strategy=\"median\")\n",
        "# # imputer = SimpleImputer(strategy = 'constant', fill_value=0)\n",
        "# df = pd.DataFrame(imputer.fit_transform(df), columns=df.columns)\n",
        "# df\n",
        "\n",
        "\n",
        "\n",
        "from sklearn.impute import KNNImputer\n",
        "\n",
        "#임퓨터 선언(5개의 평균으로 계산하겠다)\n",
        "imputer=KNNImputer(n_neighbors=5)\n",
        "\n",
        "#임퓨터를 사용하여 filled_train으로 저장 이후 같은 임퓨터를 사용할때는 imputer.transform()으로 사용하면됨\n",
        "filled_train=imputer.fit_transform(df)\n",
        "\n",
        "#사용하면 array값으로 나오기때문에 dataframe으로 바꿔주고 컬럼을가져옴\n",
        "df=pd.DataFrame(filled_train, columns=df.columns)"
      ],
      "metadata": {
        "id": "pEFX42rPbce-"
      },
      "execution_count": 64,
      "outputs": []
    },
    {
      "cell_type": "code",
      "source": [
        "import copy\n",
        "\n",
        "first_row.pop() # Y_Quality\n",
        "first_row.pop() # Y_Class\n",
        "# first_row_copy = copy.copy(first_row)\n",
        "first_row.append('LINE')\n",
        "first_row.append('PRODUCT_CODE')\n",
        "data = pd.read_csv('./train.csv')\n",
        "df2 = data[first_row]\n",
        "df2_line = df2['LINE']\n",
        "df2_pc = df2['PRODUCT_CODE']\n",
        "\n",
        "# df(Y_Qulaity + Y_Class), df2(LINE + PRODUCT_CODE) join\n",
        "# print(df)\n",
        "# print(df2)\n",
        "# df = pd.merge(df, df2, left_on=first_row_copy, right_on=first_row_copy, how='outer')\n",
        "# print(df)\n",
        "df = pd.concat([df, df2_line, df2_pc], axis=1) \n",
        "print(df['LINE'])\n",
        "print(df['PRODUCT_CODE'])\n",
        "print(df['Y_Quality'])\n",
        "print(df['Y_Class'])\n",
        "print(df)\n"
      ],
      "metadata": {
        "colab": {
          "base_uri": "https://localhost:8080/"
        },
        "id": "XxgcZstoetKp",
        "outputId": "f89021c0-460a-4b6f-b640-273449334a14"
      },
      "execution_count": 65,
      "outputs": [
        {
          "output_type": "stream",
          "name": "stdout",
          "text": [
            "0      T050304\n",
            "1      T050307\n",
            "2      T050304\n",
            "3      T050307\n",
            "4      T050304\n",
            "        ...   \n",
            "593    T100306\n",
            "594    T050304\n",
            "595    T050304\n",
            "596    T100304\n",
            "597    T100306\n",
            "Name: LINE, Length: 598, dtype: object\n",
            "0      A_31\n",
            "1      A_31\n",
            "2      A_31\n",
            "3      A_31\n",
            "4      A_31\n",
            "       ... \n",
            "593    T_31\n",
            "594    A_31\n",
            "595    A_31\n",
            "596    O_31\n",
            "597    O_31\n",
            "Name: PRODUCT_CODE, Length: 598, dtype: object\n",
            "0     0.53\n",
            "1     0.54\n",
            "2     0.53\n",
            "3     0.54\n",
            "4     0.53\n",
            "      ... \n",
            "593   0.53\n",
            "594   0.52\n",
            "595   0.52\n",
            "596   0.53\n",
            "597   0.53\n",
            "Name: Y_Quality, Length: 598, dtype: float64\n",
            "0     1.00\n",
            "1     2.00\n",
            "2     1.00\n",
            "3     2.00\n",
            "4     1.00\n",
            "      ... \n",
            "593   1.00\n",
            "594   0.00\n",
            "595   0.00\n",
            "596   1.00\n",
            "597   1.00\n",
            "Name: Y_Class, Length: 598, dtype: float64\n",
            "      X_1   X_2  X_3   X_4   X_5  X_6   X_7   X_8   X_9  X_10  ...  X_2866  \\\n",
            "0    2.00 94.00 0.00 45.00 10.20 0.00 49.60 10.00 47.80  2.00  ...   39.34   \n",
            "1    2.00 94.00 0.00 45.00 10.20 0.00 49.60 10.00 47.80  2.00  ...   38.89   \n",
            "2    1.80 96.60 0.00 45.00 10.60 0.00 45.00 10.00 31.00  2.00  ...   39.19   \n",
            "3    1.80 96.60 0.00 45.00 10.60 0.00 45.00 10.00 31.00  2.00  ...   37.74   \n",
            "4    1.80 96.60 0.00 45.00 10.60 0.00 45.00 10.00 31.00  2.00  ...   38.70   \n",
            "..    ...   ...  ...   ...   ...  ...   ...   ...   ...   ...  ...     ...   \n",
            "593  2.00 95.00 0.00 45.00 10.00 0.00 50.00 10.00 52.00  2.00  ...   53.58   \n",
            "594  2.00 94.00 0.00 45.00 10.20 0.00 49.60 10.00 47.80  2.00  ...   49.47   \n",
            "595  2.00 94.00 0.00 45.00 10.20 0.00 49.60 10.00 47.80  2.00  ...   52.79   \n",
            "596 40.00 94.00 0.00 45.00 11.00 0.00 45.00 10.00 31.00  2.00  ...   53.58   \n",
            "597 21.00 87.00 0.00 45.00 10.00 0.00 61.00 10.00 52.00  2.00  ...   53.58   \n",
            "\n",
            "     X_2867  X_2868  X_2869  X_2870  X_2871  Y_Class  Y_Quality     LINE  \\\n",
            "0     40.89   32.56   34.09   77.77    1.00     1.00       0.53  T050304   \n",
            "1     42.82   43.92   35.34   72.55    1.00     2.00       0.54  T050307   \n",
            "2     36.65   42.47   36.53   78.35    1.00     1.00       0.53  T050304   \n",
            "3     39.17   52.17   30.58   71.78    1.00     2.00       0.54  T050307   \n",
            "4     41.89   46.93   33.09   76.97    1.00     1.00       0.53  T050304   \n",
            "..      ...     ...     ...     ...     ...      ...        ...      ...   \n",
            "593   57.53   49.25   57.13   64.61    1.00     1.00       0.53  T100306   \n",
            "594   53.07   50.89   55.10   66.49    1.00     0.00       0.52  T050304   \n",
            "595   56.02   54.70   54.35   64.33    1.00     0.00       0.52  T050304   \n",
            "596   57.53   49.25   57.13   64.61    1.00     1.00       0.53  T100304   \n",
            "597   57.53   49.25   57.13   64.61    1.00     1.00       0.53  T100306   \n",
            "\n",
            "     PRODUCT_CODE  \n",
            "0            A_31  \n",
            "1            A_31  \n",
            "2            A_31  \n",
            "3            A_31  \n",
            "4            A_31  \n",
            "..            ...  \n",
            "593          T_31  \n",
            "594          A_31  \n",
            "595          A_31  \n",
            "596          O_31  \n",
            "597          O_31  \n",
            "\n",
            "[598 rows x 2797 columns]\n"
          ]
        }
      ]
    },
    {
      "cell_type": "code",
      "source": [
        "# 데이터 분할 : 0.8 0.2\n",
        "from sklearn.model_selection import train_test_split\n",
        "\n",
        "all = copy.copy(df)\n",
        "train, test = train_test_split(df,test_size=0.2)\n",
        "print(train) # 478\n",
        "print(test) # 120"
      ],
      "metadata": {
        "colab": {
          "base_uri": "https://localhost:8080/"
        },
        "id": "nl_o01wc3ATm",
        "outputId": "09079e5b-b986-4b84-c465-2b3ebade6a2f"
      },
      "execution_count": 66,
      "outputs": [
        {
          "output_type": "stream",
          "name": "stdout",
          "text": [
            "     X_1    X_2  X_3   X_4   X_5  X_6   X_7   X_8   X_9  X_10  ...  X_2866  \\\n",
            "26  2.00  95.00 0.00 45.00 10.00 0.00 54.00 10.00 52.00  2.00  ...   53.58   \n",
            "31  2.40  94.00 0.00 45.00 10.00 0.00 52.80 10.20 52.00  2.00  ...   56.10   \n",
            "516 2.00  89.00 0.00 45.00 10.00 0.00 50.00 10.00 52.00  2.00  ...   53.58   \n",
            "108 1.00 100.00 0.00 45.00 11.00 0.00 45.00 10.00 31.00  2.00  ...   53.58   \n",
            "24  2.00  94.00 0.00 45.00 10.20 0.00 49.60 10.00 47.80  2.00  ...   56.38   \n",
            "..   ...    ...  ...   ...   ...  ...   ...   ...   ...   ...  ...     ...   \n",
            "501 1.60  93.80 0.00 45.00 10.60 0.00 48.40 10.00 39.40  2.00  ...   55.28   \n",
            "271 2.00  95.00 0.00 45.00 11.00 0.00 45.00 10.00 31.00  2.00  ...   53.58   \n",
            "362 2.00  94.00 0.00 45.00 10.20 0.00 49.60 10.00 47.80  2.00  ...   55.17   \n",
            "593 2.00  95.00 0.00 45.00 10.00 0.00 50.00 10.00 52.00  2.00  ...   53.58   \n",
            "577 7.00  94.00 0.00 45.00 10.00 0.00 61.00 10.00 52.00  2.00  ...   53.58   \n",
            "\n",
            "     X_2867  X_2868  X_2869  X_2870  X_2871  Y_Class  Y_Quality     LINE  \\\n",
            "26    57.53   49.25   57.13   64.61    1.00     1.00       0.53  T100306   \n",
            "31    60.95   49.91   58.04   65.88    1.00     2.00       0.54  T010306   \n",
            "516   57.53   49.25   57.13   64.61    1.00     2.00       0.55  T100306   \n",
            "108   57.53   49.25   57.13   64.61    1.00     1.00       0.53  T100304   \n",
            "24    68.66   59.20   59.42   70.16    1.00     2.00       0.58  T050307   \n",
            "..      ...     ...     ...     ...     ...      ...        ...      ...   \n",
            "501   58.05   45.49   56.98   65.10    1.00     1.00       0.53  T010306   \n",
            "271   57.53   49.25   57.13   64.61    1.00     1.00       0.53  T100304   \n",
            "362   60.58   41.07   58.09   65.24    1.00     0.00       0.52  T050304   \n",
            "593   57.53   49.25   57.13   64.61    1.00     1.00       0.53  T100306   \n",
            "577   57.53   49.25   57.13   64.61    1.00     1.00       0.53  T100306   \n",
            "\n",
            "     PRODUCT_CODE  \n",
            "26           T_31  \n",
            "31           A_31  \n",
            "516          T_31  \n",
            "108          T_31  \n",
            "24           A_31  \n",
            "..            ...  \n",
            "501          A_31  \n",
            "271          T_31  \n",
            "362          A_31  \n",
            "593          T_31  \n",
            "577          T_31  \n",
            "\n",
            "[478 rows x 2797 columns]\n",
            "     X_1   X_2  X_3   X_4   X_5  X_6   X_7   X_8   X_9  X_10  ...  X_2866  \\\n",
            "212 2.40 93.40 0.00 45.00 10.00 0.00 51.20 10.20 52.00  2.00  ...   54.57   \n",
            "471 2.00 94.80 0.00 45.00 10.20 0.00 48.60 10.00 43.60  2.00  ...   52.81   \n",
            "417 2.00 93.00 0.00 45.00 11.00 0.00 45.00 10.00 31.00  2.00  ...   53.58   \n",
            "567 3.00 88.00 0.00 45.00 10.00 0.00 50.00 10.00 52.00  2.00  ...   53.58   \n",
            "179 2.00 94.60 0.00 45.00 10.20 0.00 52.00 10.40 47.80  2.00  ...   53.77   \n",
            "..   ...   ...  ...   ...   ...  ...   ...   ...   ...   ...  ...     ...   \n",
            "230 1.60 92.40 0.00 45.00 10.20 0.00 49.40 10.00 47.80  2.00  ...   54.57   \n",
            "115 1.80 97.80 0.00 45.00 10.60 0.00 46.00 10.00 35.20  2.00  ...   56.30   \n",
            "247 2.00 94.00 0.00 45.00 10.00 0.00 51.00 10.00 52.00  2.00  ...   53.58   \n",
            "564 2.00 94.00 0.00 45.00 10.20 0.00 49.60 10.00 47.80  2.00  ...   57.94   \n",
            "437 1.80 92.60 0.00 45.00 10.40 0.00 49.40 10.00 43.60  2.00  ...   56.01   \n",
            "\n",
            "     X_2867  X_2868  X_2869  X_2870  X_2871  Y_Class  Y_Quality     LINE  \\\n",
            "212   61.15   50.08   57.75   65.85    1.00     2.00       0.55  T010306   \n",
            "471   55.96   47.99   56.51   65.05    1.00     2.00       0.55  T010306   \n",
            "417   57.53   49.25   57.13   64.61    1.00     0.00       0.52  T100304   \n",
            "567   57.53   49.25   57.13   64.61    1.00     0.00       0.52  T100306   \n",
            "179   56.74   52.17   54.29   64.28    1.00     1.00       0.53  T010305   \n",
            "..      ...     ...     ...     ...     ...      ...        ...      ...   \n",
            "230   61.15   50.08   57.75   65.85    1.00     1.00       0.53  T010305   \n",
            "115   59.36   47.74   56.60   65.08    1.00     1.00       0.53  T010306   \n",
            "247   57.53   49.25   57.13   64.61    1.00     1.00       0.53  T100306   \n",
            "564   55.84   53.24   56.72   64.17    1.00     2.00       0.54  T050304   \n",
            "437   59.20   50.48   53.23   64.41    1.00     1.00       0.53  T010306   \n",
            "\n",
            "     PRODUCT_CODE  \n",
            "212          A_31  \n",
            "471          A_31  \n",
            "417          T_31  \n",
            "567          T_31  \n",
            "179          A_31  \n",
            "..            ...  \n",
            "230          A_31  \n",
            "115          A_31  \n",
            "247          T_31  \n",
            "564          A_31  \n",
            "437          A_31  \n",
            "\n",
            "[120 rows x 2797 columns]\n"
          ]
        }
      ]
    },
    {
      "cell_type": "code",
      "source": [
        "Y_list = ['Y_Class','Y_Quality']\n",
        "y_train = train['Y_Class']\n",
        "x_train = train.drop(columns = Y_list)\n",
        "\n",
        "y_test = test['Y_Class']\n",
        "x_test = test.drop(columns = Y_list)\n",
        "\n",
        "y_all = all['Y_Class']\n",
        "x_all = all.drop(columns = Y_list)"
      ],
      "metadata": {
        "id": "8xZxkRZN5Erk"
      },
      "execution_count": 67,
      "outputs": []
    },
    {
      "cell_type": "code",
      "source": [
        "print(x_train)\n",
        "# print(y_train)\n",
        "# print(x_test)\n",
        "# print(y_test)"
      ],
      "metadata": {
        "colab": {
          "base_uri": "https://localhost:8080/"
        },
        "id": "tH0GglrUHXKe",
        "outputId": "eb43bbf3-aef3-4b3a-913b-ace461f6f11c"
      },
      "execution_count": null,
      "outputs": [
        {
          "output_type": "stream",
          "name": "stdout",
          "text": [
            "     X_1    X_2  X_3   X_4   X_5  X_6   X_7   X_8   X_9  X_10  ...  X_2864  \\\n",
            "323 1.80  96.60 0.00 45.00 10.60 0.00 45.00 10.00 31.00  2.00  ...  367.64   \n",
            "349 2.00  96.00 0.00 45.00 10.00 0.00 57.00 10.00 52.00  2.00  ...  412.82   \n",
            "260 2.00  93.00 0.00 45.00 11.00 0.00 45.00 10.00 31.00  2.00  ...  412.82   \n",
            "521 1.60  93.60 0.00 45.00 10.60 0.00 48.40 10.00 39.40  2.00  ...  439.30   \n",
            "232 2.00 100.00 0.00 45.00 11.00 0.00 45.00 10.00 31.00  2.00  ...  412.82   \n",
            "..   ...    ...  ...   ...   ...  ...   ...   ...   ...   ...  ...     ...   \n",
            "175 2.00  93.00 0.00 45.00 10.00 0.00 54.00 10.00 52.00  2.00  ...  412.82   \n",
            "45  2.00  97.00 0.00 45.00 11.00 0.00 45.00 10.00 31.00  2.00  ...  412.82   \n",
            "177 2.00  94.00 0.00 45.00 11.00 0.00 45.00 10.00 31.00  2.00  ...  412.82   \n",
            "506 1.00  94.00 0.00 45.00 10.00 0.00 45.00 10.00 31.00  2.00  ...  397.62   \n",
            "432 1.60  93.80 0.00 45.00 10.60 0.00 48.40 10.00 39.40  2.00  ...  369.22   \n",
            "\n",
            "     X_2865  X_2866  X_2867  X_2868  X_2869  X_2870  X_2871     LINE  \\\n",
            "323  353.00   55.70   57.74   49.83   57.27   63.74    1.00  T050304   \n",
            "349  394.60   53.49   58.57   52.93   56.20   63.84    1.00  T100306   \n",
            "260  394.60   53.49   58.57   52.93   56.20   63.84    1.00  T100304   \n",
            "521  422.00   54.23   56.70   48.59   54.37   63.22    1.00  T010305   \n",
            "232  394.60   53.49   58.57   52.93   56.20   63.84    1.00  T100304   \n",
            "..      ...     ...     ...     ...     ...     ...     ...      ...   \n",
            "175  394.60   53.49   58.57   52.93   56.20   63.84    1.00  T100306   \n",
            "45   394.60   53.49   58.57   52.93   56.20   63.84    1.00  T100304   \n",
            "177  394.60   53.49   58.57   52.93   56.20   63.84    1.00  T100304   \n",
            "506  379.60   50.20   55.91   49.89   49.13   65.28    1.00  T100304   \n",
            "432  352.00   55.40   59.57   42.58   57.58   64.90    1.00  T050307   \n",
            "\n",
            "     PRODUCT_CODE  \n",
            "323          A_31  \n",
            "349          T_31  \n",
            "260          T_31  \n",
            "521          A_31  \n",
            "232          T_31  \n",
            "..            ...  \n",
            "175          T_31  \n",
            "45           T_31  \n",
            "177          T_31  \n",
            "506          T_31  \n",
            "432          A_31  \n",
            "\n",
            "[478 rows x 2702 columns]\n"
          ]
        }
      ]
    },
    {
      "cell_type": "code",
      "source": [
        "!pip install lazypredict"
      ],
      "metadata": {
        "colab": {
          "base_uri": "https://localhost:8080/"
        },
        "id": "tqP86c7lLMmL",
        "outputId": "01bc90ac-a4ca-4303-ae86-ffc4fd70e398"
      },
      "execution_count": null,
      "outputs": [
        {
          "output_type": "stream",
          "name": "stdout",
          "text": [
            "Looking in indexes: https://pypi.org/simple, https://us-python.pkg.dev/colab-wheels/public/simple/\n",
            "Collecting lazypredict\n",
            "  Downloading lazypredict-0.2.12-py2.py3-none-any.whl (12 kB)\n",
            "Requirement already satisfied: click in /usr/local/lib/python3.8/dist-packages (from lazypredict) (7.1.2)\n",
            "Requirement already satisfied: lightgbm in /usr/local/lib/python3.8/dist-packages (from lazypredict) (2.2.3)\n",
            "Requirement already satisfied: xgboost in /usr/local/lib/python3.8/dist-packages (from lazypredict) (0.90)\n",
            "Requirement already satisfied: tqdm in /usr/local/lib/python3.8/dist-packages (from lazypredict) (4.64.1)\n",
            "Requirement already satisfied: pandas in /usr/local/lib/python3.8/dist-packages (from lazypredict) (1.3.5)\n",
            "Requirement already satisfied: joblib in /usr/local/lib/python3.8/dist-packages (from lazypredict) (1.2.0)\n",
            "Requirement already satisfied: scikit-learn in /usr/local/lib/python3.8/dist-packages (from lazypredict) (1.0.2)\n",
            "Requirement already satisfied: numpy in /usr/local/lib/python3.8/dist-packages (from lightgbm->lazypredict) (1.21.6)\n",
            "Requirement already satisfied: scipy in /usr/local/lib/python3.8/dist-packages (from lightgbm->lazypredict) (1.7.3)\n",
            "Requirement already satisfied: pytz>=2017.3 in /usr/local/lib/python3.8/dist-packages (from pandas->lazypredict) (2022.7.1)\n",
            "Requirement already satisfied: python-dateutil>=2.7.3 in /usr/local/lib/python3.8/dist-packages (from pandas->lazypredict) (2.8.2)\n",
            "Requirement already satisfied: threadpoolctl>=2.0.0 in /usr/local/lib/python3.8/dist-packages (from scikit-learn->lazypredict) (3.1.0)\n",
            "Requirement already satisfied: six>=1.5 in /usr/local/lib/python3.8/dist-packages (from python-dateutil>=2.7.3->pandas->lazypredict) (1.15.0)\n",
            "Installing collected packages: lazypredict\n",
            "Successfully installed lazypredict-0.2.12\n"
          ]
        }
      ]
    },
    {
      "cell_type": "code",
      "source": [
        "# Lazypredict를 통한 자동 모델 학습\n",
        "from lazypredict.Supervised import LazyClassifier\n",
        "\n",
        "clf = LazyClassifier(verbose = 0, predictions=True)\n",
        "models, predictions = clf.fit(x_train, x_test, y_train, y_test) # fit(학습 데이터 인풋, 테스트 데이터 인풋, 학습 데이터 아웃풋, 테스트 데이터 아웃풋)\n",
        "models\n",
        "\n",
        "# from lazypredict.Supervised import LazyRegressor\n",
        "\n",
        "# reg = LazyRegressor(verbose=0, predictions=True)\n",
        "\n",
        "# models, predictions = reg.fit(x_train, x_test, y_train, y_test)"
      ],
      "metadata": {
        "colab": {
          "base_uri": "https://localhost:8080/",
          "height": 473
        },
        "id": "8j0NQz0APJQ-",
        "outputId": "d8d925c1-db0f-4e74-e10d-496f266e0a20"
      },
      "execution_count": 68,
      "outputs": [
        {
          "output_type": "stream",
          "name": "stderr",
          "text": [
            "100%|██████████| 29/29 [00:54<00:00,  1.87s/it]\n"
          ]
        },
        {
          "output_type": "execute_result",
          "data": {
            "text/plain": [
              "                               Accuracy  Balanced Accuracy ROC AUC  F1 Score  \\\n",
              "Model                                                                          \n",
              "XGBClassifier                      0.94               0.92    None      0.94   \n",
              "LogisticRegression                 0.93               0.90    None      0.93   \n",
              "ExtraTreesClassifier               0.93               0.90    None      0.93   \n",
              "LGBMClassifier                     0.93               0.89    None      0.93   \n",
              "PassiveAggressiveClassifier        0.90               0.88    None      0.90   \n",
              "...                                 ...                ...     ...       ...   \n",
              "BernoulliNB                        0.62               0.56    None      0.64   \n",
              "QuadraticDiscriminantAnalysis      0.64               0.47    None      0.63   \n",
              "DummyClassifier                    0.69               0.33    None      0.57   \n",
              "LabelSpreading                     0.16               0.33    None      0.04   \n",
              "LabelPropagation                   0.16               0.33    None      0.04   \n",
              "\n",
              "                               Time Taken  \n",
              "Model                                      \n",
              "XGBClassifier                       14.67  \n",
              "LogisticRegression                   1.29  \n",
              "ExtraTreesClassifier                 0.47  \n",
              "LGBMClassifier                      14.30  \n",
              "PassiveAggressiveClassifier          0.61  \n",
              "...                                   ...  \n",
              "BernoulliNB                          0.18  \n",
              "QuadraticDiscriminantAnalysis        0.64  \n",
              "DummyClassifier                      0.16  \n",
              "LabelSpreading                       0.29  \n",
              "LabelPropagation                     0.35  \n",
              "\n",
              "[26 rows x 5 columns]"
            ],
            "text/html": [
              "\n",
              "  <div id=\"df-a09c9d03-4667-48e2-9940-7a6f9c2f3076\">\n",
              "    <div class=\"colab-df-container\">\n",
              "      <div>\n",
              "<style scoped>\n",
              "    .dataframe tbody tr th:only-of-type {\n",
              "        vertical-align: middle;\n",
              "    }\n",
              "\n",
              "    .dataframe tbody tr th {\n",
              "        vertical-align: top;\n",
              "    }\n",
              "\n",
              "    .dataframe thead th {\n",
              "        text-align: right;\n",
              "    }\n",
              "</style>\n",
              "<table border=\"1\" class=\"dataframe\">\n",
              "  <thead>\n",
              "    <tr style=\"text-align: right;\">\n",
              "      <th></th>\n",
              "      <th>Accuracy</th>\n",
              "      <th>Balanced Accuracy</th>\n",
              "      <th>ROC AUC</th>\n",
              "      <th>F1 Score</th>\n",
              "      <th>Time Taken</th>\n",
              "    </tr>\n",
              "    <tr>\n",
              "      <th>Model</th>\n",
              "      <th></th>\n",
              "      <th></th>\n",
              "      <th></th>\n",
              "      <th></th>\n",
              "      <th></th>\n",
              "    </tr>\n",
              "  </thead>\n",
              "  <tbody>\n",
              "    <tr>\n",
              "      <th>XGBClassifier</th>\n",
              "      <td>0.94</td>\n",
              "      <td>0.92</td>\n",
              "      <td>None</td>\n",
              "      <td>0.94</td>\n",
              "      <td>14.67</td>\n",
              "    </tr>\n",
              "    <tr>\n",
              "      <th>LogisticRegression</th>\n",
              "      <td>0.93</td>\n",
              "      <td>0.90</td>\n",
              "      <td>None</td>\n",
              "      <td>0.93</td>\n",
              "      <td>1.29</td>\n",
              "    </tr>\n",
              "    <tr>\n",
              "      <th>ExtraTreesClassifier</th>\n",
              "      <td>0.93</td>\n",
              "      <td>0.90</td>\n",
              "      <td>None</td>\n",
              "      <td>0.93</td>\n",
              "      <td>0.47</td>\n",
              "    </tr>\n",
              "    <tr>\n",
              "      <th>LGBMClassifier</th>\n",
              "      <td>0.93</td>\n",
              "      <td>0.89</td>\n",
              "      <td>None</td>\n",
              "      <td>0.93</td>\n",
              "      <td>14.30</td>\n",
              "    </tr>\n",
              "    <tr>\n",
              "      <th>PassiveAggressiveClassifier</th>\n",
              "      <td>0.90</td>\n",
              "      <td>0.88</td>\n",
              "      <td>None</td>\n",
              "      <td>0.90</td>\n",
              "      <td>0.61</td>\n",
              "    </tr>\n",
              "    <tr>\n",
              "      <th>...</th>\n",
              "      <td>...</td>\n",
              "      <td>...</td>\n",
              "      <td>...</td>\n",
              "      <td>...</td>\n",
              "      <td>...</td>\n",
              "    </tr>\n",
              "    <tr>\n",
              "      <th>BernoulliNB</th>\n",
              "      <td>0.62</td>\n",
              "      <td>0.56</td>\n",
              "      <td>None</td>\n",
              "      <td>0.64</td>\n",
              "      <td>0.18</td>\n",
              "    </tr>\n",
              "    <tr>\n",
              "      <th>QuadraticDiscriminantAnalysis</th>\n",
              "      <td>0.64</td>\n",
              "      <td>0.47</td>\n",
              "      <td>None</td>\n",
              "      <td>0.63</td>\n",
              "      <td>0.64</td>\n",
              "    </tr>\n",
              "    <tr>\n",
              "      <th>DummyClassifier</th>\n",
              "      <td>0.69</td>\n",
              "      <td>0.33</td>\n",
              "      <td>None</td>\n",
              "      <td>0.57</td>\n",
              "      <td>0.16</td>\n",
              "    </tr>\n",
              "    <tr>\n",
              "      <th>LabelSpreading</th>\n",
              "      <td>0.16</td>\n",
              "      <td>0.33</td>\n",
              "      <td>None</td>\n",
              "      <td>0.04</td>\n",
              "      <td>0.29</td>\n",
              "    </tr>\n",
              "    <tr>\n",
              "      <th>LabelPropagation</th>\n",
              "      <td>0.16</td>\n",
              "      <td>0.33</td>\n",
              "      <td>None</td>\n",
              "      <td>0.04</td>\n",
              "      <td>0.35</td>\n",
              "    </tr>\n",
              "  </tbody>\n",
              "</table>\n",
              "<p>26 rows × 5 columns</p>\n",
              "</div>\n",
              "      <button class=\"colab-df-convert\" onclick=\"convertToInteractive('df-a09c9d03-4667-48e2-9940-7a6f9c2f3076')\"\n",
              "              title=\"Convert this dataframe to an interactive table.\"\n",
              "              style=\"display:none;\">\n",
              "        \n",
              "  <svg xmlns=\"http://www.w3.org/2000/svg\" height=\"24px\"viewBox=\"0 0 24 24\"\n",
              "       width=\"24px\">\n",
              "    <path d=\"M0 0h24v24H0V0z\" fill=\"none\"/>\n",
              "    <path d=\"M18.56 5.44l.94 2.06.94-2.06 2.06-.94-2.06-.94-.94-2.06-.94 2.06-2.06.94zm-11 1L8.5 8.5l.94-2.06 2.06-.94-2.06-.94L8.5 2.5l-.94 2.06-2.06.94zm10 10l.94 2.06.94-2.06 2.06-.94-2.06-.94-.94-2.06-.94 2.06-2.06.94z\"/><path d=\"M17.41 7.96l-1.37-1.37c-.4-.4-.92-.59-1.43-.59-.52 0-1.04.2-1.43.59L10.3 9.45l-7.72 7.72c-.78.78-.78 2.05 0 2.83L4 21.41c.39.39.9.59 1.41.59.51 0 1.02-.2 1.41-.59l7.78-7.78 2.81-2.81c.8-.78.8-2.07 0-2.86zM5.41 20L4 18.59l7.72-7.72 1.47 1.35L5.41 20z\"/>\n",
              "  </svg>\n",
              "      </button>\n",
              "      \n",
              "  <style>\n",
              "    .colab-df-container {\n",
              "      display:flex;\n",
              "      flex-wrap:wrap;\n",
              "      gap: 12px;\n",
              "    }\n",
              "\n",
              "    .colab-df-convert {\n",
              "      background-color: #E8F0FE;\n",
              "      border: none;\n",
              "      border-radius: 50%;\n",
              "      cursor: pointer;\n",
              "      display: none;\n",
              "      fill: #1967D2;\n",
              "      height: 32px;\n",
              "      padding: 0 0 0 0;\n",
              "      width: 32px;\n",
              "    }\n",
              "\n",
              "    .colab-df-convert:hover {\n",
              "      background-color: #E2EBFA;\n",
              "      box-shadow: 0px 1px 2px rgba(60, 64, 67, 0.3), 0px 1px 3px 1px rgba(60, 64, 67, 0.15);\n",
              "      fill: #174EA6;\n",
              "    }\n",
              "\n",
              "    [theme=dark] .colab-df-convert {\n",
              "      background-color: #3B4455;\n",
              "      fill: #D2E3FC;\n",
              "    }\n",
              "\n",
              "    [theme=dark] .colab-df-convert:hover {\n",
              "      background-color: #434B5C;\n",
              "      box-shadow: 0px 1px 3px 1px rgba(0, 0, 0, 0.15);\n",
              "      filter: drop-shadow(0px 1px 2px rgba(0, 0, 0, 0.3));\n",
              "      fill: #FFFFFF;\n",
              "    }\n",
              "  </style>\n",
              "\n",
              "      <script>\n",
              "        const buttonEl =\n",
              "          document.querySelector('#df-a09c9d03-4667-48e2-9940-7a6f9c2f3076 button.colab-df-convert');\n",
              "        buttonEl.style.display =\n",
              "          google.colab.kernel.accessAllowed ? 'block' : 'none';\n",
              "\n",
              "        async function convertToInteractive(key) {\n",
              "          const element = document.querySelector('#df-a09c9d03-4667-48e2-9940-7a6f9c2f3076');\n",
              "          const dataTable =\n",
              "            await google.colab.kernel.invokeFunction('convertToInteractive',\n",
              "                                                     [key], {});\n",
              "          if (!dataTable) return;\n",
              "\n",
              "          const docLinkHtml = 'Like what you see? Visit the ' +\n",
              "            '<a target=\"_blank\" href=https://colab.research.google.com/notebooks/data_table.ipynb>data table notebook</a>'\n",
              "            + ' to learn more about interactive tables.';\n",
              "          element.innerHTML = '';\n",
              "          dataTable['output_type'] = 'display_data';\n",
              "          await google.colab.output.renderOutput(dataTable, element);\n",
              "          const docLink = document.createElement('div');\n",
              "          docLink.innerHTML = docLinkHtml;\n",
              "          element.appendChild(docLink);\n",
              "        }\n",
              "      </script>\n",
              "    </div>\n",
              "  </div>\n",
              "  "
            ]
          },
          "metadata": {},
          "execution_count": 68
        }
      ]
    },
    {
      "cell_type": "code",
      "source": [
        "# 여러 성능 지표 중 정확도가 가장 높은 지표 선택\n",
        "models.loc[models['Accuracy'] == models['Accuracy'].max()].index[0]\n",
        "models.loc[models['F1 Score'] == models['F1 Score'].max()].index[0]\n"
      ],
      "metadata": {
        "colab": {
          "base_uri": "https://localhost:8080/",
          "height": 36
        },
        "id": "5KgjDXlAPOo_",
        "outputId": "976a8ff4-62f9-4a42-ca6e-1831e98ef042"
      },
      "execution_count": 69,
      "outputs": [
        {
          "output_type": "execute_result",
          "data": {
            "text/plain": [
              "'XGBClassifier'"
            ],
            "application/vnd.google.colaboratory.intrinsic+json": {
              "type": "string"
            }
          },
          "metadata": {},
          "execution_count": 69
        }
      ]
    },
    {
      "cell_type": "code",
      "source": [
        "# models.loc['SGDClassifier']\n",
        "# models.loc['ExtraTreesClassifier']\n",
        "# models.loc['LinearSVC']\n",
        "# models.loc['ExtraTreesClassifier']\n",
        "models.loc['XGBClassifier']"
      ],
      "metadata": {
        "colab": {
          "base_uri": "https://localhost:8080/"
        },
        "id": "9saoOUzUqXvR",
        "outputId": "557dabdf-fdea-4255-f74e-b7afdac8e2fc"
      },
      "execution_count": 70,
      "outputs": [
        {
          "output_type": "execute_result",
          "data": {
            "text/plain": [
              "Accuracy             0.94\n",
              "Balanced Accuracy    0.92\n",
              "ROC AUC              None\n",
              "F1 Score             0.94\n",
              "Time Taken          14.67\n",
              "Name: XGBClassifier, dtype: object"
            ]
          },
          "metadata": {},
          "execution_count": 70
        }
      ]
    },
    {
      "cell_type": "code",
      "source": [
        "test_df = pd.read_csv('./test.csv')\n",
        "test_x = test_df.drop(columns=['PRODUCT_ID', 'TIMESTAMP'])\n",
        "\n",
        "# qualitative to quantitative\n",
        "qual_col = ['LINE', 'PRODUCT_CODE']\n",
        "\n",
        "for i in qual_col:\n",
        "    le = LabelEncoder()\n",
        "    le = le.fit(x_all[i])\n",
        "    x_all[i] = le.transform(x_all[i])\n",
        "    \n",
        "    for label in np.unique(test_x[i]): \n",
        "        if label not in le.classes_: \n",
        "            le.classes_ = np.append(le.classes_, label)\n",
        "    test_x[i] = le.transform(test_x[i]) \n",
        "print('Done.')\n",
        "\n"
      ],
      "metadata": {
        "colab": {
          "base_uri": "https://localhost:8080/"
        },
        "id": "J94poKFpRLui",
        "outputId": "c2e996f4-c3ab-4098-c500-6150ce4ed451"
      },
      "execution_count": 71,
      "outputs": [
        {
          "output_type": "stream",
          "name": "stdout",
          "text": [
            "Done.\n"
          ]
        }
      ]
    },
    {
      "cell_type": "code",
      "source": [
        "from sklearn.ensemble import ExtraTreesClassifier\n",
        "from sklearn.linear_model import SGDClassifier\n",
        "from xgboost import XGBClassifier\n",
        "\n",
        "\n",
        "# 학습\n",
        "XGB = XGBClassifier(random_state=37).fit(x_all, y_all)\n",
        "# ETC = ExtraTreesClassifier(random_state=37).fit(x_all, y_all)\n",
        "# SGD = SGDClassifier(random_state=37).fit(x_all, y_all)\n",
        "# print(test_x)"
      ],
      "metadata": {
        "id": "MNaC8MYXpouK"
      },
      "execution_count": 72,
      "outputs": []
    },
    {
      "cell_type": "code",
      "source": [
        "# preds = SGD.predict(test_x)\n",
        "test_x = pd.read_csv('./test.csv')\n",
        "# test_x = test_df.drop(columns=['PRODUCT_ID', 'TIMESTAMP'])\n",
        "not_x = ['LINE', 'PRODUCT_CODE', 'TIMESTAMP', 'PRODUCT_ID']\n",
        "test_data = pd.read_csv('./test.csv')\n",
        "data = test_x.drop(columns=not_x)\n",
        "print(data)\n",
        "\n",
        "data = data.isnull().sum()\n",
        "data = data.to_frame()\n",
        "data.columns=['zero']\n",
        "data_0 = data[data['zero']>=310]\n",
        "data = data[data['zero']<550] \n",
        "# data = data[data['zero']<550] \n",
        "# print(data)\n",
        "from sklearn.impute import SimpleImputer\n",
        "\n",
        "\n",
        "imputer = SimpleImputer(strategy = 'constant', fill_value=0) # 결측값을 0으로 대치\n",
        "filled_train_0 = imputer.fit_transform(data_0)\n",
        "\n",
        "\n",
        "first_row = data.index.to_list()\n",
        "test_df = test_data[first_row]\n",
        "\n",
        "# print(test_df)\n",
        "from sklearn.impute import KNNImputer\n",
        "\n",
        "imputer2=KNNImputer(n_neighbors=5)\n",
        "filled_train2=imputer2.fit_transform(test_df)\n",
        "test_df=pd.DataFrame(filled_train2, columns=test_df.columns)\n",
        "# test_df = pd.DataFrame(imputer.fit_transform(test_df), columns=test_df.columns)\n",
        "# print(test_df)\n",
        "\n",
        "first_row.append('LINE')\n",
        "first_row.append('PRODUCT_CODE')\n",
        "data2 = pd.read_csv('./test.csv')\n",
        "test_df2 = data2[first_row]\n",
        "test_df2_line = test_df2['LINE']\n",
        "test_df2_pc = test_df2['PRODUCT_CODE']\n",
        "\n",
        "test_df = pd.concat([test_df,test_df2_line, test_df2_pc], axis=1)"
      ],
      "metadata": {
        "colab": {
          "base_uri": "https://localhost:8080/",
          "height": 908
        },
        "id": "v9OdNZodprQX",
        "outputId": "5bcb3de0-b788-4721-9b03-a6c31650f50b"
      },
      "execution_count": 77,
      "outputs": [
        {
          "output_type": "stream",
          "name": "stdout",
          "text": [
            "     X_1   X_2  X_3   X_4   X_5  X_6   X_7   X_8   X_9  X_10  ...  X_2866  \\\n",
            "0   2.00 94.00 0.00 45.00 10.00 0.00 51.00 10.00 52.00  2.00  ...     NaN   \n",
            "1   2.00 93.00 0.00 45.00 11.00 0.00 45.00 10.00 31.00  2.00  ...     NaN   \n",
            "2   2.00 95.00 0.00 45.00 11.00 0.00 45.00 10.00 31.00  2.00  ...     NaN   \n",
            "3    NaN   NaN  NaN   NaN   NaN  NaN   NaN   NaN   NaN   NaN  ...     NaN   \n",
            "4    NaN   NaN  NaN   NaN   NaN  NaN   NaN   NaN   NaN   NaN  ...     NaN   \n",
            "..   ...   ...  ...   ...   ...  ...   ...   ...   ...   ...  ...     ...   \n",
            "305 2.00 91.00 0.00 45.00 10.00 0.00 51.00 10.00 52.00  2.00  ...     NaN   \n",
            "306 2.00 96.00 0.00 45.00 11.00 0.00 45.00 10.00 31.00  2.00  ...     NaN   \n",
            "307 2.00 91.00 0.00 45.00 10.00 0.00 50.00 10.00 52.00  2.00  ...     NaN   \n",
            "308 2.00 95.00 0.00 45.00 10.00 0.00 51.00 10.00 52.00  2.00  ...     NaN   \n",
            "309 2.00 87.00 0.00 45.00 10.00 0.00 51.00 10.00 52.00  2.00  ...     NaN   \n",
            "\n",
            "     X_2867  X_2868  X_2869  X_2870  X_2871  X_2872  X_2873  X_2874  X_2875  \n",
            "0       NaN     NaN     NaN     NaN     NaN     NaN     NaN     NaN     NaN  \n",
            "1       NaN     NaN     NaN     NaN     NaN     NaN     NaN     NaN     NaN  \n",
            "2       NaN     NaN     NaN     NaN     NaN     NaN     NaN     NaN     NaN  \n",
            "3       NaN     NaN     NaN     NaN     NaN     NaN     NaN     NaN     NaN  \n",
            "4       NaN     NaN     NaN     NaN     NaN     NaN     NaN     NaN     NaN  \n",
            "..      ...     ...     ...     ...     ...     ...     ...     ...     ...  \n",
            "305     NaN     NaN     NaN     NaN     NaN     NaN     NaN     NaN     NaN  \n",
            "306     NaN     NaN     NaN     NaN     NaN     NaN     NaN     NaN     NaN  \n",
            "307     NaN     NaN     NaN     NaN     NaN     NaN     NaN     NaN     NaN  \n",
            "308     NaN     NaN     NaN     NaN     NaN     NaN     NaN     NaN     NaN  \n",
            "309     NaN     NaN     NaN     NaN     NaN     NaN     NaN     NaN     NaN  \n",
            "\n",
            "[310 rows x 2875 columns]\n"
          ]
        },
        {
          "output_type": "error",
          "ename": "ValueError",
          "evalue": "ignored",
          "traceback": [
            "\u001b[0;31m---------------------------------------------------------------------------\u001b[0m",
            "\u001b[0;31mValueError\u001b[0m                                Traceback (most recent call last)",
            "\u001b[0;32m<ipython-input-77-065f4b75057c>\u001b[0m in \u001b[0;36m<module>\u001b[0;34m\u001b[0m\n\u001b[1;32m     29\u001b[0m \u001b[0mimputer2\u001b[0m\u001b[0;34m=\u001b[0m\u001b[0mKNNImputer\u001b[0m\u001b[0;34m(\u001b[0m\u001b[0mn_neighbors\u001b[0m\u001b[0;34m=\u001b[0m\u001b[0;36m5\u001b[0m\u001b[0;34m)\u001b[0m\u001b[0;34m\u001b[0m\u001b[0;34m\u001b[0m\u001b[0m\n\u001b[1;32m     30\u001b[0m \u001b[0mfilled_train2\u001b[0m\u001b[0;34m=\u001b[0m\u001b[0mimputer2\u001b[0m\u001b[0;34m.\u001b[0m\u001b[0mfit_transform\u001b[0m\u001b[0;34m(\u001b[0m\u001b[0mtest_df\u001b[0m\u001b[0;34m)\u001b[0m\u001b[0;34m\u001b[0m\u001b[0;34m\u001b[0m\u001b[0m\n\u001b[0;32m---> 31\u001b[0;31m \u001b[0mtest_df\u001b[0m\u001b[0;34m=\u001b[0m\u001b[0mpd\u001b[0m\u001b[0;34m.\u001b[0m\u001b[0mDataFrame\u001b[0m\u001b[0;34m(\u001b[0m\u001b[0mfilled_train2\u001b[0m\u001b[0;34m,\u001b[0m \u001b[0mcolumns\u001b[0m\u001b[0;34m=\u001b[0m\u001b[0mtest_df\u001b[0m\u001b[0;34m.\u001b[0m\u001b[0mcolumns\u001b[0m\u001b[0;34m)\u001b[0m\u001b[0;34m\u001b[0m\u001b[0;34m\u001b[0m\u001b[0m\n\u001b[0m\u001b[1;32m     32\u001b[0m \u001b[0;31m# test_df = pd.DataFrame(imputer.fit_transform(test_df), columns=test_df.columns)\u001b[0m\u001b[0;34m\u001b[0m\u001b[0;34m\u001b[0m\u001b[0;34m\u001b[0m\u001b[0m\n\u001b[1;32m     33\u001b[0m \u001b[0;31m# print(test_df)\u001b[0m\u001b[0;34m\u001b[0m\u001b[0;34m\u001b[0m\u001b[0;34m\u001b[0m\u001b[0m\n",
            "\u001b[0;32m/usr/local/lib/python3.8/dist-packages/pandas/core/frame.py\u001b[0m in \u001b[0;36m__init__\u001b[0;34m(self, data, index, columns, dtype, copy)\u001b[0m\n\u001b[1;32m    670\u001b[0m                 )\n\u001b[1;32m    671\u001b[0m             \u001b[0;32melse\u001b[0m\u001b[0;34m:\u001b[0m\u001b[0;34m\u001b[0m\u001b[0;34m\u001b[0m\u001b[0m\n\u001b[0;32m--> 672\u001b[0;31m                 mgr = ndarray_to_mgr(\n\u001b[0m\u001b[1;32m    673\u001b[0m                     \u001b[0mdata\u001b[0m\u001b[0;34m,\u001b[0m\u001b[0;34m\u001b[0m\u001b[0;34m\u001b[0m\u001b[0m\n\u001b[1;32m    674\u001b[0m                     \u001b[0mindex\u001b[0m\u001b[0;34m,\u001b[0m\u001b[0;34m\u001b[0m\u001b[0;34m\u001b[0m\u001b[0m\n",
            "\u001b[0;32m/usr/local/lib/python3.8/dist-packages/pandas/core/internals/construction.py\u001b[0m in \u001b[0;36mndarray_to_mgr\u001b[0;34m(values, index, columns, dtype, copy, typ)\u001b[0m\n\u001b[1;32m    322\u001b[0m     )\n\u001b[1;32m    323\u001b[0m \u001b[0;34m\u001b[0m\u001b[0m\n\u001b[0;32m--> 324\u001b[0;31m     \u001b[0m_check_values_indices_shape_match\u001b[0m\u001b[0;34m(\u001b[0m\u001b[0mvalues\u001b[0m\u001b[0;34m,\u001b[0m \u001b[0mindex\u001b[0m\u001b[0;34m,\u001b[0m \u001b[0mcolumns\u001b[0m\u001b[0;34m)\u001b[0m\u001b[0;34m\u001b[0m\u001b[0;34m\u001b[0m\u001b[0m\n\u001b[0m\u001b[1;32m    325\u001b[0m \u001b[0;34m\u001b[0m\u001b[0m\n\u001b[1;32m    326\u001b[0m     \u001b[0;32mif\u001b[0m \u001b[0mtyp\u001b[0m \u001b[0;34m==\u001b[0m \u001b[0;34m\"array\"\u001b[0m\u001b[0;34m:\u001b[0m\u001b[0;34m\u001b[0m\u001b[0;34m\u001b[0m\u001b[0m\n",
            "\u001b[0;32m/usr/local/lib/python3.8/dist-packages/pandas/core/internals/construction.py\u001b[0m in \u001b[0;36m_check_values_indices_shape_match\u001b[0;34m(values, index, columns)\u001b[0m\n\u001b[1;32m    391\u001b[0m         \u001b[0mpassed\u001b[0m \u001b[0;34m=\u001b[0m \u001b[0mvalues\u001b[0m\u001b[0;34m.\u001b[0m\u001b[0mshape\u001b[0m\u001b[0;34m\u001b[0m\u001b[0;34m\u001b[0m\u001b[0m\n\u001b[1;32m    392\u001b[0m         \u001b[0mimplied\u001b[0m \u001b[0;34m=\u001b[0m \u001b[0;34m(\u001b[0m\u001b[0mlen\u001b[0m\u001b[0;34m(\u001b[0m\u001b[0mindex\u001b[0m\u001b[0;34m)\u001b[0m\u001b[0;34m,\u001b[0m \u001b[0mlen\u001b[0m\u001b[0;34m(\u001b[0m\u001b[0mcolumns\u001b[0m\u001b[0;34m)\u001b[0m\u001b[0;34m)\u001b[0m\u001b[0;34m\u001b[0m\u001b[0;34m\u001b[0m\u001b[0m\n\u001b[0;32m--> 393\u001b[0;31m         \u001b[0;32mraise\u001b[0m \u001b[0mValueError\u001b[0m\u001b[0;34m(\u001b[0m\u001b[0;34mf\"Shape of passed values is {passed}, indices imply {implied}\"\u001b[0m\u001b[0;34m)\u001b[0m\u001b[0;34m\u001b[0m\u001b[0;34m\u001b[0m\u001b[0m\n\u001b[0m\u001b[1;32m    394\u001b[0m \u001b[0;34m\u001b[0m\u001b[0m\n\u001b[1;32m    395\u001b[0m \u001b[0;34m\u001b[0m\u001b[0m\n",
            "\u001b[0;31mValueError\u001b[0m: Shape of passed values is (310, 2369), indices imply (310, 2875)"
          ]
        }
      ]
    },
    {
      "cell_type": "code",
      "source": [
        "submit = pd.read_csv('./sample_submission.csv')"
      ],
      "metadata": {
        "id": "3DTv1CBaqOvY"
      },
      "execution_count": 50,
      "outputs": []
    },
    {
      "cell_type": "code",
      "source": [
        "# print(x_all)\n",
        "for i in qual_col:\n",
        "    le = LabelEncoder()\n",
        "    le = le.fit(x_all[i])\n",
        "    x_all[i] = le.transform(x_all[i])\n",
        "    \n",
        "    for label in np.unique(test_df[i]): \n",
        "        if label not in le.classes_: \n",
        "            le.classes_ = np.append(le.classes_, label)\n",
        "    test_df[i] = le.transform(test_df[i]) \n",
        "print('Done.')"
      ],
      "metadata": {
        "colab": {
          "base_uri": "https://localhost:8080/"
        },
        "id": "EAHARlD8qTDB",
        "outputId": "9c1c1cb2-d333-4439-e33d-478ddb8e3e26"
      },
      "execution_count": 52,
      "outputs": [
        {
          "output_type": "stream",
          "name": "stdout",
          "text": [
            "Done.\n"
          ]
        }
      ]
    },
    {
      "cell_type": "code",
      "source": [
        "preds = ETC.predict(test_df)"
      ],
      "metadata": {
        "colab": {
          "base_uri": "https://localhost:8080/",
          "height": 337
        },
        "id": "mF6cWDjVWHX9",
        "outputId": "3be99222-87de-4402-f939-11ab22574671"
      },
      "execution_count": 53,
      "outputs": [
        {
          "output_type": "error",
          "ename": "ValueError",
          "evalue": "ignored",
          "traceback": [
            "\u001b[0;31m---------------------------------------------------------------------------\u001b[0m",
            "\u001b[0;31mValueError\u001b[0m                                Traceback (most recent call last)",
            "\u001b[0;32m<ipython-input-53-6865d634ce58>\u001b[0m in \u001b[0;36m<module>\u001b[0;34m\u001b[0m\n\u001b[0;32m----> 1\u001b[0;31m \u001b[0mpreds\u001b[0m \u001b[0;34m=\u001b[0m \u001b[0mETC\u001b[0m\u001b[0;34m.\u001b[0m\u001b[0mpredict\u001b[0m\u001b[0;34m(\u001b[0m\u001b[0mtest_df\u001b[0m\u001b[0;34m)\u001b[0m\u001b[0;34m\u001b[0m\u001b[0;34m\u001b[0m\u001b[0m\n\u001b[0m",
            "\u001b[0;32m/usr/local/lib/python3.8/dist-packages/sklearn/ensemble/_forest.py\u001b[0m in \u001b[0;36mpredict\u001b[0;34m(self, X)\u001b[0m\n\u001b[1;32m    806\u001b[0m             \u001b[0mThe\u001b[0m \u001b[0mpredicted\u001b[0m \u001b[0mclasses\u001b[0m\u001b[0;34m.\u001b[0m\u001b[0;34m\u001b[0m\u001b[0;34m\u001b[0m\u001b[0m\n\u001b[1;32m    807\u001b[0m         \"\"\"\n\u001b[0;32m--> 808\u001b[0;31m         \u001b[0mproba\u001b[0m \u001b[0;34m=\u001b[0m \u001b[0mself\u001b[0m\u001b[0;34m.\u001b[0m\u001b[0mpredict_proba\u001b[0m\u001b[0;34m(\u001b[0m\u001b[0mX\u001b[0m\u001b[0;34m)\u001b[0m\u001b[0;34m\u001b[0m\u001b[0;34m\u001b[0m\u001b[0m\n\u001b[0m\u001b[1;32m    809\u001b[0m \u001b[0;34m\u001b[0m\u001b[0m\n\u001b[1;32m    810\u001b[0m         \u001b[0;32mif\u001b[0m \u001b[0mself\u001b[0m\u001b[0;34m.\u001b[0m\u001b[0mn_outputs_\u001b[0m \u001b[0;34m==\u001b[0m \u001b[0;36m1\u001b[0m\u001b[0;34m:\u001b[0m\u001b[0;34m\u001b[0m\u001b[0;34m\u001b[0m\u001b[0m\n",
            "\u001b[0;32m/usr/local/lib/python3.8/dist-packages/sklearn/ensemble/_forest.py\u001b[0m in \u001b[0;36mpredict_proba\u001b[0;34m(self, X)\u001b[0m\n\u001b[1;32m    848\u001b[0m         \u001b[0mcheck_is_fitted\u001b[0m\u001b[0;34m(\u001b[0m\u001b[0mself\u001b[0m\u001b[0;34m)\u001b[0m\u001b[0;34m\u001b[0m\u001b[0;34m\u001b[0m\u001b[0m\n\u001b[1;32m    849\u001b[0m         \u001b[0;31m# Check data\u001b[0m\u001b[0;34m\u001b[0m\u001b[0;34m\u001b[0m\u001b[0;34m\u001b[0m\u001b[0m\n\u001b[0;32m--> 850\u001b[0;31m         \u001b[0mX\u001b[0m \u001b[0;34m=\u001b[0m \u001b[0mself\u001b[0m\u001b[0;34m.\u001b[0m\u001b[0m_validate_X_predict\u001b[0m\u001b[0;34m(\u001b[0m\u001b[0mX\u001b[0m\u001b[0;34m)\u001b[0m\u001b[0;34m\u001b[0m\u001b[0;34m\u001b[0m\u001b[0m\n\u001b[0m\u001b[1;32m    851\u001b[0m \u001b[0;34m\u001b[0m\u001b[0m\n\u001b[1;32m    852\u001b[0m         \u001b[0;31m# Assign chunk of trees to jobs\u001b[0m\u001b[0;34m\u001b[0m\u001b[0;34m\u001b[0m\u001b[0;34m\u001b[0m\u001b[0m\n",
            "\u001b[0;32m/usr/local/lib/python3.8/dist-packages/sklearn/ensemble/_forest.py\u001b[0m in \u001b[0;36m_validate_X_predict\u001b[0;34m(self, X)\u001b[0m\n\u001b[1;32m    577\u001b[0m         Validate X whenever one tries to predict, apply, predict_proba.\"\"\"\n\u001b[1;32m    578\u001b[0m         \u001b[0mcheck_is_fitted\u001b[0m\u001b[0;34m(\u001b[0m\u001b[0mself\u001b[0m\u001b[0;34m)\u001b[0m\u001b[0;34m\u001b[0m\u001b[0;34m\u001b[0m\u001b[0m\n\u001b[0;32m--> 579\u001b[0;31m         \u001b[0mX\u001b[0m \u001b[0;34m=\u001b[0m \u001b[0mself\u001b[0m\u001b[0;34m.\u001b[0m\u001b[0m_validate_data\u001b[0m\u001b[0;34m(\u001b[0m\u001b[0mX\u001b[0m\u001b[0;34m,\u001b[0m \u001b[0mdtype\u001b[0m\u001b[0;34m=\u001b[0m\u001b[0mDTYPE\u001b[0m\u001b[0;34m,\u001b[0m \u001b[0maccept_sparse\u001b[0m\u001b[0;34m=\u001b[0m\u001b[0;34m\"csr\"\u001b[0m\u001b[0;34m,\u001b[0m \u001b[0mreset\u001b[0m\u001b[0;34m=\u001b[0m\u001b[0;32mFalse\u001b[0m\u001b[0;34m)\u001b[0m\u001b[0;34m\u001b[0m\u001b[0;34m\u001b[0m\u001b[0m\n\u001b[0m\u001b[1;32m    580\u001b[0m         \u001b[0;32mif\u001b[0m \u001b[0missparse\u001b[0m\u001b[0;34m(\u001b[0m\u001b[0mX\u001b[0m\u001b[0;34m)\u001b[0m \u001b[0;32mand\u001b[0m \u001b[0;34m(\u001b[0m\u001b[0mX\u001b[0m\u001b[0;34m.\u001b[0m\u001b[0mindices\u001b[0m\u001b[0;34m.\u001b[0m\u001b[0mdtype\u001b[0m \u001b[0;34m!=\u001b[0m \u001b[0mnp\u001b[0m\u001b[0;34m.\u001b[0m\u001b[0mintc\u001b[0m \u001b[0;32mor\u001b[0m \u001b[0mX\u001b[0m\u001b[0;34m.\u001b[0m\u001b[0mindptr\u001b[0m\u001b[0;34m.\u001b[0m\u001b[0mdtype\u001b[0m \u001b[0;34m!=\u001b[0m \u001b[0mnp\u001b[0m\u001b[0;34m.\u001b[0m\u001b[0mintc\u001b[0m\u001b[0;34m)\u001b[0m\u001b[0;34m:\u001b[0m\u001b[0;34m\u001b[0m\u001b[0;34m\u001b[0m\u001b[0m\n\u001b[1;32m    581\u001b[0m             \u001b[0;32mraise\u001b[0m \u001b[0mValueError\u001b[0m\u001b[0;34m(\u001b[0m\u001b[0;34m\"No support for np.int64 index based sparse matrices\"\u001b[0m\u001b[0;34m)\u001b[0m\u001b[0;34m\u001b[0m\u001b[0;34m\u001b[0m\u001b[0m\n",
            "\u001b[0;32m/usr/local/lib/python3.8/dist-packages/sklearn/base.py\u001b[0m in \u001b[0;36m_validate_data\u001b[0;34m(self, X, y, reset, validate_separately, **check_params)\u001b[0m\n\u001b[1;32m    583\u001b[0m \u001b[0;34m\u001b[0m\u001b[0m\n\u001b[1;32m    584\u001b[0m         \u001b[0;32mif\u001b[0m \u001b[0;32mnot\u001b[0m \u001b[0mno_val_X\u001b[0m \u001b[0;32mand\u001b[0m \u001b[0mcheck_params\u001b[0m\u001b[0;34m.\u001b[0m\u001b[0mget\u001b[0m\u001b[0;34m(\u001b[0m\u001b[0;34m\"ensure_2d\"\u001b[0m\u001b[0;34m,\u001b[0m \u001b[0;32mTrue\u001b[0m\u001b[0;34m)\u001b[0m\u001b[0;34m:\u001b[0m\u001b[0;34m\u001b[0m\u001b[0;34m\u001b[0m\u001b[0m\n\u001b[0;32m--> 585\u001b[0;31m             \u001b[0mself\u001b[0m\u001b[0;34m.\u001b[0m\u001b[0m_check_n_features\u001b[0m\u001b[0;34m(\u001b[0m\u001b[0mX\u001b[0m\u001b[0;34m,\u001b[0m \u001b[0mreset\u001b[0m\u001b[0;34m=\u001b[0m\u001b[0mreset\u001b[0m\u001b[0;34m)\u001b[0m\u001b[0;34m\u001b[0m\u001b[0;34m\u001b[0m\u001b[0m\n\u001b[0m\u001b[1;32m    586\u001b[0m \u001b[0;34m\u001b[0m\u001b[0m\n\u001b[1;32m    587\u001b[0m         \u001b[0;32mreturn\u001b[0m \u001b[0mout\u001b[0m\u001b[0;34m\u001b[0m\u001b[0;34m\u001b[0m\u001b[0m\n",
            "\u001b[0;32m/usr/local/lib/python3.8/dist-packages/sklearn/base.py\u001b[0m in \u001b[0;36m_check_n_features\u001b[0;34m(self, X, reset)\u001b[0m\n\u001b[1;32m    398\u001b[0m \u001b[0;34m\u001b[0m\u001b[0m\n\u001b[1;32m    399\u001b[0m         \u001b[0;32mif\u001b[0m \u001b[0mn_features\u001b[0m \u001b[0;34m!=\u001b[0m \u001b[0mself\u001b[0m\u001b[0;34m.\u001b[0m\u001b[0mn_features_in_\u001b[0m\u001b[0;34m:\u001b[0m\u001b[0;34m\u001b[0m\u001b[0;34m\u001b[0m\u001b[0m\n\u001b[0;32m--> 400\u001b[0;31m             raise ValueError(\n\u001b[0m\u001b[1;32m    401\u001b[0m                 \u001b[0;34mf\"X has {n_features} features, but {self.__class__.__name__} \"\u001b[0m\u001b[0;34m\u001b[0m\u001b[0;34m\u001b[0m\u001b[0m\n\u001b[1;32m    402\u001b[0m                 \u001b[0;34mf\"is expecting {self.n_features_in_} features as input.\"\u001b[0m\u001b[0;34m\u001b[0m\u001b[0;34m\u001b[0m\u001b[0m\n",
            "\u001b[0;31mValueError\u001b[0m: X has 2371 features, but ExtraTreesClassifier is expecting 2702 features as input."
          ]
        }
      ]
    },
    {
      "cell_type": "code",
      "source": [],
      "metadata": {
        "id": "KUMweIKgbOF2"
      },
      "execution_count": null,
      "outputs": []
    }
  ]
}